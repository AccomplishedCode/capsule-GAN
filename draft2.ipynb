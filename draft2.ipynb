{
 "cells": [
  {
   "cell_type": "code",
   "execution_count": 32,
   "metadata": {},
   "outputs": [],
   "source": [
    "import os\n",
    "os.environ[\"KERAS_BACKEND\"] = \"tensorflow\"\n",
    "import numpy as np\n",
    "from tqdm import tqdm\n",
    "import matplotlib.pyplot as plt\n",
    "\n",
    "from keras.layers import Input, Reshape\n",
    "from keras.models import Model, Sequential\n",
    "from keras.layers.core import Reshape, Dense, Dropout, Flatten\n",
    "from capsulelayers import CapsuleLayer, PrimaryCap, Length, Mask\n",
    "from keras.layers.advanced_activations import LeakyReLU\n",
    "from keras.layers.convolutional import Conv1D, Convolution2D, UpSampling2D\n",
    "from keras.layers.normalization import BatchNormalization\n",
    "from keras.datasets import mnist\n",
    "from keras.optimizers import Adam\n",
    "from keras import backend as K\n",
    "from keras import initializers"
   ]
  },
  {
   "cell_type": "code",
   "execution_count": 2,
   "metadata": {},
   "outputs": [],
   "source": [
    "randomDim = 100\n",
    "\n",
    "# Load MNIST data\n",
    "(X_train, y_train), (X_test, y_test) = mnist.load_data()\n",
    "X_train = (X_train.astype(np.float32) - 127.5)/127.5\n",
    "X_train = X_train.reshape(60000, 784)"
   ]
  },
  {
   "cell_type": "code",
   "execution_count": 3,
   "metadata": {},
   "outputs": [],
   "source": [
    "# Optimizer\n",
    "adam = Adam(lr=0.0002, beta_1=0.5)"
   ]
  },
  {
   "cell_type": "code",
   "execution_count": 4,
   "metadata": {},
   "outputs": [
    {
     "name": "stdout",
     "output_type": "stream",
     "text": [
      "_________________________________________________________________\n",
      "Layer (type)                 Output Shape              Param #   \n",
      "=================================================================\n",
      "input_1 (InputLayer)         (None, 100)               0         \n",
      "_________________________________________________________________\n",
      "dense_1 (Dense)              (None, 256)               25856     \n",
      "_________________________________________________________________\n",
      "leaky_re_lu_1 (LeakyReLU)    (None, 256)               0         \n",
      "_________________________________________________________________\n",
      "dense_2 (Dense)              (None, 512)               131584    \n",
      "_________________________________________________________________\n",
      "leaky_re_lu_2 (LeakyReLU)    (None, 512)               0         \n",
      "_________________________________________________________________\n",
      "dense_3 (Dense)              (None, 1024)              525312    \n",
      "_________________________________________________________________\n",
      "leaky_re_lu_3 (LeakyReLU)    (None, 1024)              0         \n",
      "_________________________________________________________________\n",
      "dense_4 (Dense)              (None, 784)               803600    \n",
      "_________________________________________________________________\n",
      "reshape_1 (Reshape)          (None, 28, 28, 1)         0         \n",
      "=================================================================\n",
      "Total params: 1,486,352\n",
      "Trainable params: 1,486,352\n",
      "Non-trainable params: 0\n",
      "_________________________________________________________________\n"
     ]
    }
   ],
   "source": [
    "noise = Input(shape=(randomDim,))\n",
    "\n",
    "x = Dense(256, kernel_initializer=initializers.RandomNormal(stddev=0.02))(noise)\n",
    "x = LeakyReLU(0.2)(x)\n",
    "x = Dense(512)(x)\n",
    "x = LeakyReLU(0.2)(x)\n",
    "x = Dense(1024)(x)\n",
    "x = LeakyReLU(0.2)(x)\n",
    "x = Dense(784, activation='tanh')(x)\n",
    "gen_out = Reshape((28, 28, 1))(x)\n",
    "\n",
    "generator = Model(noise, gen_out)\n",
    "generator.compile(loss='binary_crossentropy', optimizer=adam)\n",
    "generator.summary()"
   ]
  },
  {
   "cell_type": "code",
   "execution_count": 40,
   "metadata": {},
   "outputs": [
    {
     "ename": "ValueError",
     "evalue": "Layer primarycap_conv2d was called with an input that isn't a symbolic tensor. Received type: <class 'tuple'>. Full input: [(28, 28)]. All inputs to the layer should be tensors.",
     "output_type": "error",
     "traceback": [
      "\u001b[1;31m---------------------------------------------------------------------------\u001b[0m",
      "\u001b[1;31mValueError\u001b[0m                                Traceback (most recent call last)",
      "\u001b[1;32m~\\Miniconda3\\envs\\capsule-gans\\lib\\site-packages\\keras\\engine\\topology.py\u001b[0m in \u001b[0;36massert_input_compatibility\u001b[1;34m(self, inputs)\u001b[0m\n\u001b[0;32m    425\u001b[0m             \u001b[1;32mtry\u001b[0m\u001b[1;33m:\u001b[0m\u001b[1;33m\u001b[0m\u001b[0m\n\u001b[1;32m--> 426\u001b[1;33m                 \u001b[0mK\u001b[0m\u001b[1;33m.\u001b[0m\u001b[0mis_keras_tensor\u001b[0m\u001b[1;33m(\u001b[0m\u001b[0mx\u001b[0m\u001b[1;33m)\u001b[0m\u001b[1;33m\u001b[0m\u001b[0m\n\u001b[0m\u001b[0;32m    427\u001b[0m             \u001b[1;32mexcept\u001b[0m \u001b[0mValueError\u001b[0m\u001b[1;33m:\u001b[0m\u001b[1;33m\u001b[0m\u001b[0m\n",
      "\u001b[1;32m~\\Miniconda3\\envs\\capsule-gans\\lib\\site-packages\\keras\\backend\\tensorflow_backend.py\u001b[0m in \u001b[0;36mis_keras_tensor\u001b[1;34m(x)\u001b[0m\n\u001b[0;32m    457\u001b[0m                           tf.SparseTensor)):\n\u001b[1;32m--> 458\u001b[1;33m         raise ValueError('Unexpectedly found an instance of type `' + str(type(x)) + '`. '\n\u001b[0m\u001b[0;32m    459\u001b[0m                          'Expected a symbolic tensor instance.')\n",
      "\u001b[1;31mValueError\u001b[0m: Unexpectedly found an instance of type `<class 'tuple'>`. Expected a symbolic tensor instance.",
      "\nDuring handling of the above exception, another exception occurred:\n",
      "\u001b[1;31mValueError\u001b[0m                                Traceback (most recent call last)",
      "\u001b[1;32m<ipython-input-40-2f716f80fae4>\u001b[0m in \u001b[0;36m<module>\u001b[1;34m()\u001b[0m\n\u001b[0;32m      3\u001b[0m \u001b[0mdiscriminator\u001b[0m\u001b[1;33m.\u001b[0m\u001b[0madd\u001b[0m\u001b[1;33m(\u001b[0m\u001b[0mLeakyReLU\u001b[0m\u001b[1;33m(\u001b[0m\u001b[1;36m0.2\u001b[0m\u001b[1;33m)\u001b[0m\u001b[1;33m)\u001b[0m\u001b[1;33m\u001b[0m\u001b[0m\n\u001b[0;32m      4\u001b[0m \u001b[0mdiscriminator\u001b[0m\u001b[1;33m.\u001b[0m\u001b[0madd\u001b[0m\u001b[1;33m(\u001b[0m\u001b[0mDropout\u001b[0m\u001b[1;33m(\u001b[0m\u001b[1;36m0.3\u001b[0m\u001b[1;33m)\u001b[0m\u001b[1;33m)\u001b[0m\u001b[1;33m\u001b[0m\u001b[0m\n\u001b[1;32m----> 5\u001b[1;33m \u001b[0mdiscriminator\u001b[0m\u001b[1;33m.\u001b[0m\u001b[0madd\u001b[0m\u001b[1;33m(\u001b[0m\u001b[0mPrimaryCap\u001b[0m\u001b[1;33m(\u001b[0m\u001b[1;33m(\u001b[0m\u001b[1;36m28\u001b[0m\u001b[1;33m,\u001b[0m \u001b[1;36m28\u001b[0m\u001b[1;33m)\u001b[0m\u001b[1;33m,\u001b[0m \u001b[0mdim_vector\u001b[0m\u001b[1;33m=\u001b[0m\u001b[1;36m8\u001b[0m\u001b[1;33m,\u001b[0m \u001b[0mn_channels\u001b[0m\u001b[1;33m=\u001b[0m\u001b[1;36m24\u001b[0m\u001b[1;33m,\u001b[0m \u001b[0mkernel_size\u001b[0m\u001b[1;33m=\u001b[0m\u001b[1;36m9\u001b[0m\u001b[1;33m,\u001b[0m \u001b[0mstrides\u001b[0m\u001b[1;33m=\u001b[0m\u001b[1;36m2\u001b[0m\u001b[1;33m,\u001b[0m \u001b[0mpadding\u001b[0m\u001b[1;33m=\u001b[0m\u001b[1;34m'valid'\u001b[0m\u001b[1;33m)\u001b[0m\u001b[1;33m)\u001b[0m\u001b[1;33m\u001b[0m\u001b[0m\n\u001b[0m\u001b[0;32m      6\u001b[0m \u001b[0mdiscriminator\u001b[0m\u001b[1;33m.\u001b[0m\u001b[0madd\u001b[0m\u001b[1;33m(\u001b[0m\u001b[0mDense\u001b[0m\u001b[1;33m(\u001b[0m\u001b[1;36m512\u001b[0m\u001b[1;33m)\u001b[0m\u001b[1;33m)\u001b[0m\u001b[1;33m\u001b[0m\u001b[0m\n\u001b[0;32m      7\u001b[0m \u001b[0mdiscriminator\u001b[0m\u001b[1;33m.\u001b[0m\u001b[0madd\u001b[0m\u001b[1;33m(\u001b[0m\u001b[0mLeakyReLU\u001b[0m\u001b[1;33m(\u001b[0m\u001b[1;36m0.2\u001b[0m\u001b[1;33m)\u001b[0m\u001b[1;33m)\u001b[0m\u001b[1;33m\u001b[0m\u001b[0m\n",
      "\u001b[1;32mE:\\Codes\\capsule-GANs\\capsulelayers.py\u001b[0m in \u001b[0;36mPrimaryCap\u001b[1;34m(inputs, dim_vector, n_channels, kernel_size, strides, padding)\u001b[0m\n\u001b[0;32m    179\u001b[0m     \"\"\"\n\u001b[0;32m    180\u001b[0m     output = layers.Conv2D(filters=dim_vector*n_channels, kernel_size=kernel_size, strides=strides, padding=padding,\n\u001b[1;32m--> 181\u001b[1;33m                            name='primarycap_conv2d')(inputs)\n\u001b[0m\u001b[0;32m    182\u001b[0m     \u001b[0moutputs\u001b[0m \u001b[1;33m=\u001b[0m \u001b[0mlayers\u001b[0m\u001b[1;33m.\u001b[0m\u001b[0mReshape\u001b[0m\u001b[1;33m(\u001b[0m\u001b[0mtarget_shape\u001b[0m\u001b[1;33m=\u001b[0m\u001b[1;33m[\u001b[0m\u001b[1;33m-\u001b[0m\u001b[1;36m1\u001b[0m\u001b[1;33m,\u001b[0m \u001b[0mdim_vector\u001b[0m\u001b[1;33m]\u001b[0m\u001b[1;33m,\u001b[0m \u001b[0mname\u001b[0m\u001b[1;33m=\u001b[0m\u001b[1;34m'primarycap_reshape'\u001b[0m\u001b[1;33m)\u001b[0m\u001b[1;33m(\u001b[0m\u001b[0moutput\u001b[0m\u001b[1;33m)\u001b[0m\u001b[1;33m\u001b[0m\u001b[0m\n\u001b[0;32m    183\u001b[0m     \u001b[1;32mreturn\u001b[0m \u001b[0mlayers\u001b[0m\u001b[1;33m.\u001b[0m\u001b[0mLambda\u001b[0m\u001b[1;33m(\u001b[0m\u001b[0msquash\u001b[0m\u001b[1;33m,\u001b[0m \u001b[0mname\u001b[0m\u001b[1;33m=\u001b[0m\u001b[1;34m'primarycap_squash'\u001b[0m\u001b[1;33m)\u001b[0m\u001b[1;33m(\u001b[0m\u001b[0moutputs\u001b[0m\u001b[1;33m)\u001b[0m\u001b[1;33m\u001b[0m\u001b[0m\n",
      "\u001b[1;32m~\\Miniconda3\\envs\\capsule-gans\\lib\\site-packages\\keras\\engine\\topology.py\u001b[0m in \u001b[0;36m__call__\u001b[1;34m(self, inputs, **kwargs)\u001b[0m\n\u001b[0;32m    557\u001b[0m                 \u001b[1;31m# Raise exceptions in case the input is not compatible\u001b[0m\u001b[1;33m\u001b[0m\u001b[1;33m\u001b[0m\u001b[0m\n\u001b[0;32m    558\u001b[0m                 \u001b[1;31m# with the input_spec specified in the layer constructor.\u001b[0m\u001b[1;33m\u001b[0m\u001b[1;33m\u001b[0m\u001b[0m\n\u001b[1;32m--> 559\u001b[1;33m                 \u001b[0mself\u001b[0m\u001b[1;33m.\u001b[0m\u001b[0massert_input_compatibility\u001b[0m\u001b[1;33m(\u001b[0m\u001b[0minputs\u001b[0m\u001b[1;33m)\u001b[0m\u001b[1;33m\u001b[0m\u001b[0m\n\u001b[0m\u001b[0;32m    560\u001b[0m \u001b[1;33m\u001b[0m\u001b[0m\n\u001b[0;32m    561\u001b[0m                 \u001b[1;31m# Collect input shapes to build layer.\u001b[0m\u001b[1;33m\u001b[0m\u001b[1;33m\u001b[0m\u001b[0m\n",
      "\u001b[1;32m~\\Miniconda3\\envs\\capsule-gans\\lib\\site-packages\\keras\\engine\\topology.py\u001b[0m in \u001b[0;36massert_input_compatibility\u001b[1;34m(self, inputs)\u001b[0m\n\u001b[0;32m    430\u001b[0m                                  \u001b[1;34m'Received type: '\u001b[0m \u001b[1;33m+\u001b[0m\u001b[1;33m\u001b[0m\u001b[0m\n\u001b[0;32m    431\u001b[0m                                  \u001b[0mstr\u001b[0m\u001b[1;33m(\u001b[0m\u001b[0mtype\u001b[0m\u001b[1;33m(\u001b[0m\u001b[0mx\u001b[0m\u001b[1;33m)\u001b[0m\u001b[1;33m)\u001b[0m \u001b[1;33m+\u001b[0m \u001b[1;34m'. Full input: '\u001b[0m \u001b[1;33m+\u001b[0m\u001b[1;33m\u001b[0m\u001b[0m\n\u001b[1;32m--> 432\u001b[1;33m                                  \u001b[0mstr\u001b[0m\u001b[1;33m(\u001b[0m\u001b[0minputs\u001b[0m\u001b[1;33m)\u001b[0m \u001b[1;33m+\u001b[0m \u001b[1;34m'. All inputs to the layer '\u001b[0m\u001b[1;33m\u001b[0m\u001b[0m\n\u001b[0m\u001b[0;32m    433\u001b[0m                                  'should be tensors.')\n\u001b[0;32m    434\u001b[0m \u001b[1;33m\u001b[0m\u001b[0m\n",
      "\u001b[1;31mValueError\u001b[0m: Layer primarycap_conv2d was called with an input that isn't a symbolic tensor. Received type: <class 'tuple'>. Full input: [(28, 28)]. All inputs to the layer should be tensors."
     ]
    }
   ],
   "source": [
    "discriminator = Sequential()\n",
    "discriminator.add(Dense(784, input_dim=784, kernel_initializer=initializers.RandomNormal(stddev=0.02)))\n",
    "discriminator.add(LeakyReLU(0.2))\n",
    "discriminator.add(Dropout(0.3))\n",
    "discriminator.add(PrimaryCap((28, 28), dim_vector=8, n_channels=24, kernel_size=9, strides=2, padding='valid'))\n",
    "discriminator.add(Dense(512))\n",
    "discriminator.add(LeakyReLU(0.2))\n",
    "discriminator.add(Dropout(0.3))\n",
    "discriminator.add(Dense(256))\n",
    "discriminator.add(LeakyReLU(0.2))\n",
    "discriminator.add(Dropout(0.3))\n",
    "discriminator.add(Dense(1, activation='sigmoid'))\n",
    "\n",
    "discriminator.compile(loss='binary_crossentropy', optimizer=adam, metrics=['accuracy'])\n",
    "discriminator.summary()"
   ]
  },
  {
   "cell_type": "code",
   "execution_count": 22,
   "metadata": {},
   "outputs": [],
   "source": [
    "# Combined network\n",
    "discriminator.trainable = True\n",
    "ganInput = Input(shape=(randomDim,))\n",
    "x = generator(ganInput)\n",
    "ganOutput = discriminator(x)\n",
    "gan = Model(inputs=ganInput, outputs=ganOutput)\n",
    "gan.compile(loss='binary_crossentropy', optimizer=adam)"
   ]
  },
  {
   "cell_type": "code",
   "execution_count": 23,
   "metadata": {},
   "outputs": [],
   "source": [
    "dLosses = []\n",
    "gLosses = []"
   ]
  },
  {
   "cell_type": "code",
   "execution_count": 24,
   "metadata": {},
   "outputs": [],
   "source": [
    "# Plot the loss from each batch\n",
    "def plotLoss(epoch):\n",
    "    plt.figure(figsize=(10, 8))\n",
    "    plt.plot(dLosses, label='Discriminitive loss')\n",
    "    plt.plot(gLosses, label='Generative loss')\n",
    "    plt.xlabel('Epoch')\n",
    "    plt.ylabel('Loss')\n",
    "    plt.legend()\n",
    "    plt.savefig('images/gan_loss_epoch_%d.png' % epoch)"
   ]
  },
  {
   "cell_type": "code",
   "execution_count": 25,
   "metadata": {},
   "outputs": [],
   "source": [
    "# Create a wall of generated MNIST images\n",
    "def plotGeneratedImages(epoch, examples=100, dim=(10, 10), figsize=(10, 10)):\n",
    "    noise = np.random.normal(0, 1, size=[examples, randomDim])\n",
    "    generatedImages = generator.predict(noise)\n",
    "    generatedImages = generatedImages.reshape(examples, 28, 28)\n",
    "\n",
    "    plt.figure(figsize=figsize)\n",
    "    for i in range(generatedImages.shape[0]):\n",
    "        plt.subplot(dim[0], dim[1], i+1)\n",
    "        plt.imshow(generatedImages[i], interpolation='nearest', cmap='gray_r')\n",
    "        plt.axis('off')\n",
    "    plt.tight_layout()\n",
    "    plt.savefig('images/gan_generated_image_epoch_%d.png' % epoch)"
   ]
  },
  {
   "cell_type": "code",
   "execution_count": 26,
   "metadata": {},
   "outputs": [],
   "source": [
    "# Save the generator and discriminator networks (and weights) for later use\n",
    "def saveModels(epoch):\n",
    "    generator.save('models/gan_generator_epoch_%d.h5' % epoch)\n",
    "    discriminator.save('models/gan_discriminator_epoch_%d.h5' % epoch)"
   ]
  },
  {
   "cell_type": "code",
   "execution_count": 27,
   "metadata": {},
   "outputs": [],
   "source": [
    "def train(epochs=1, batchSize=128):\n",
    "    batchCount = int(X_train.shape[0] / batchSize)\n",
    "    print('Epochs:', epochs)\n",
    "    print('Batch size:', batchSize)\n",
    "    print('Batches per epoch:', batchCount)\n",
    "\n",
    "    for e in range(1, epochs+1):\n",
    "        print('-'*15, 'Epoch %d' % e, '-'*15)\n",
    "        for _ in tqdm(range(batchCount)):\n",
    "            # Get a random set of input noise and images\n",
    "            noise = np.random.normal(0, 1, size=[batchSize, randomDim])\n",
    "            imageBatch = X_train[np.random.randint(0, X_train.shape[0], size=batchSize)].reshape(batchSize, 28, 28, 1)\n",
    "\n",
    "            # Generate fake MNIST images\n",
    "            generatedImages = generator.predict(noise)\n",
    "            # print np.shape(imageBatch), np.shape(generatedImages)\n",
    "            print(imageBatch.shape, generatedImages.shape)\n",
    "            X = np.concatenate([imageBatch, generatedImages])\n",
    "\n",
    "            # Labels for generated and real data\n",
    "            yDis = np.zeros(2*batchSize)\n",
    "            # One-sided label smoothing\n",
    "            yDis[:batchSize] = 0.9\n",
    "\n",
    "            # Train discriminator\n",
    "            discriminator.trainable = True\n",
    "            dloss = discriminator.train_on_batch(X, yDis)\n",
    "\n",
    "            # Train generator\n",
    "            noise = np.random.normal(0, 1, size=[batchSize, randomDim])\n",
    "            yGen = np.ones(batchSize)\n",
    "            discriminator.trainable = True\n",
    "            print('Noise:', noise.shape)\n",
    "            gloss = gan.train_on_batch(noise, yGen)\n",
    "\n",
    "        # Store loss of most recent batch from this epoch\n",
    "        dLosses.append(dloss)\n",
    "        gLosses.append(gloss)\n",
    "        \n",
    "        # Plot the progress\n",
    "        print('Epoch: {0}, Dloss: {1}, Dacc: {2}%, Gloss: {3}'.format(e, dloss[0], dloss[1]*100, gloss))\n",
    "\n",
    "        if e == 1 or e % 10 == 0:\n",
    "            plotGeneratedImages(e)\n",
    "            saveModels(e)\n",
    "\n",
    "    # Plot losses from every epoch\n",
    "    plotLoss(e)"
   ]
  },
  {
   "cell_type": "code",
   "execution_count": 28,
   "metadata": {},
   "outputs": [
    {
     "name": "stdout",
     "output_type": "stream",
     "text": [
      "Epochs: 30\n",
      "Batch size: 64\n",
      "Batches per epoch: 937\n",
      "--------------- Epoch 1 ---------------\n"
     ]
    },
    {
     "name": "stderr",
     "output_type": "stream",
     "text": [
      "\r",
      "  0%|                                                  | 0/937 [00:00<?, ?it/s]"
     ]
    },
    {
     "name": "stdout",
     "output_type": "stream",
     "text": [
      "(64, 28, 28, 1) (64, 28, 28, 1)\n",
      "Noise: (64, 100)\n"
     ]
    },
    {
     "name": "stderr",
     "output_type": "stream",
     "text": [
      "\r",
      "  0%|                                          | 1/937 [00:03<59:26,  3.81s/it]"
     ]
    },
    {
     "name": "stdout",
     "output_type": "stream",
     "text": [
      "(64, 28, 28, 1) (64, 28, 28, 1)\n",
      "Noise: (64, 100)\n",
      "(64, 28, 28, 1) (64, 28, 28, 1)\n",
      "Noise: (64, 100)\n"
     ]
    },
    {
     "name": "stderr",
     "output_type": "stream",
     "text": [
      "\r",
      "  0%|▏                                         | 3/937 [00:03<20:18,  1.30s/it]"
     ]
    },
    {
     "name": "stdout",
     "output_type": "stream",
     "text": [
      "(64, 28, 28, 1) (64, 28, 28, 1)\n",
      "Noise: (64, 100)\n",
      "(64, 28, 28, 1) (64, 28, 28, 1)\n",
      "Noise: (64, 100)\n",
      "(64, 28, 28, 1) (64, 28, 28, 1)\n",
      "Noise: (64, 100)\n"
     ]
    },
    {
     "name": "stderr",
     "output_type": "stream",
     "text": [
      "\r",
      "  1%|▎                                         | 6/937 [00:04<10:27,  1.48it/s]"
     ]
    },
    {
     "name": "stdout",
     "output_type": "stream",
     "text": [
      "(64, 28, 28, 1) (64, 28, 28, 1)\n",
      "Noise: (64, 100)\n",
      "(64, 28, 28, 1) (64, 28, 28, 1)\n",
      "Noise: (64, 100)\n",
      "(64, 28, 28, 1) (64, 28, 28, 1)\n",
      "Noise: (64, 100)\n"
     ]
    },
    {
     "name": "stderr",
     "output_type": "stream",
     "text": [
      "\r",
      "  1%|▍                                         | 9/937 [00:04<07:11,  2.15it/s]"
     ]
    },
    {
     "name": "stdout",
     "output_type": "stream",
     "text": [
      "(64, 28, 28, 1) (64, 28, 28, 1)\n",
      "Noise: (64, 100)\n",
      "(64, 28, 28, 1) (64, 28, 28, 1)\n",
      "Noise: (64, 100)\n",
      "(64, 28, 28, 1) (64, 28, 28, 1)\n",
      "Noise: (64, 100)\n"
     ]
    },
    {
     "name": "stderr",
     "output_type": "stream",
     "text": [
      "\r",
      "  1%|▌                                        | 12/937 [00:04<05:33,  2.78it/s]"
     ]
    },
    {
     "name": "stdout",
     "output_type": "stream",
     "text": [
      "(64, 28, 28, 1) (64, 28, 28, 1)\n",
      "Noise: (64, 100)\n",
      "(64, 28, 28, 1) (64, 28, 28, 1)\n",
      "Noise: (64, 100)\n",
      "(64, 28, 28, 1) (64, 28, 28, 1)\n",
      "Noise: (64, 100)\n"
     ]
    },
    {
     "name": "stderr",
     "output_type": "stream",
     "text": [
      "\r",
      "  2%|▋                                        | 15/937 [00:04<04:33,  3.37it/s]"
     ]
    },
    {
     "name": "stdout",
     "output_type": "stream",
     "text": [
      "(64, 28, 28, 1) (64, 28, 28, 1)\n",
      "Noise: (64, 100)\n",
      "(64, 28, 28, 1) (64, 28, 28, 1)\n",
      "Noise: (64, 100)\n",
      "(64, 28, 28, 1) (64, 28, 28, 1)\n",
      "Noise: (64, 100)\n"
     ]
    },
    {
     "name": "stderr",
     "output_type": "stream",
     "text": [
      "\r",
      "  2%|▊                                        | 18/937 [00:04<03:53,  3.93it/s]"
     ]
    },
    {
     "name": "stdout",
     "output_type": "stream",
     "text": [
      "(64, 28, 28, 1) (64, 28, 28, 1)\n",
      "Noise: (64, 100)\n",
      "(64, 28, 28, 1) (64, 28, 28, 1)\n",
      "Noise: (64, 100)\n",
      "(64, 28, 28, 1) (64, 28, 28, 1)\n",
      "Noise: (64, 100)\n"
     ]
    },
    {
     "name": "stderr",
     "output_type": "stream",
     "text": [
      "\r",
      "  2%|▉                                        | 21/937 [00:04<03:25,  4.47it/s]"
     ]
    },
    {
     "name": "stdout",
     "output_type": "stream",
     "text": [
      "(64, 28, 28, 1) (64, 28, 28, 1)\n",
      "Noise: (64, 100)\n",
      "(64, 28, 28, 1) (64, 28, 28, 1)\n",
      "Noise: (64, 100)\n",
      "(64, 28, 28, 1) (64, 28, 28, 1)\n",
      "Noise: (64, 100)\n"
     ]
    },
    {
     "name": "stderr",
     "output_type": "stream",
     "text": [
      "\r",
      "  3%|█                                        | 24/937 [00:04<03:03,  4.97it/s]"
     ]
    },
    {
     "name": "stdout",
     "output_type": "stream",
     "text": [
      "(64, 28, 28, 1) (64, 28, 28, 1)\n",
      "Noise: (64, 100)\n",
      "(64, 28, 28, 1) (64, 28, 28, 1)\n",
      "Noise: (64, 100)\n",
      "(64, 28, 28, 1) (64, 28, 28, 1)\n",
      "Noise: (64, 100)\n"
     ]
    },
    {
     "name": "stderr",
     "output_type": "stream",
     "text": [
      "\r",
      "  3%|█▏                                       | 27/937 [00:04<02:47,  5.44it/s]"
     ]
    },
    {
     "name": "stdout",
     "output_type": "stream",
     "text": [
      "(64, 28, 28, 1) (64, 28, 28, 1)\n",
      "Noise: (64, 100)\n",
      "(64, 28, 28, 1) (64, 28, 28, 1)\n",
      "Noise: (64, 100)\n",
      "(64, 28, 28, 1) (64, 28, 28, 1)\n",
      "Noise: (64, 100)\n"
     ]
    },
    {
     "name": "stderr",
     "output_type": "stream",
     "text": [
      "\r",
      "  3%|█▎                                       | 30/937 [00:05<02:33,  5.90it/s]"
     ]
    },
    {
     "name": "stdout",
     "output_type": "stream",
     "text": [
      "(64, 28, 28, 1) (64, 28, 28, 1)\n",
      "Noise: (64, 100)\n",
      "(64, 28, 28, 1) (64, 28, 28, 1)\n",
      "Noise: (64, 100)\n",
      "(64, 28, 28, 1) (64, 28, 28, 1)\n",
      "Noise: (64, 100)\n"
     ]
    },
    {
     "name": "stderr",
     "output_type": "stream",
     "text": [
      "\r",
      "  4%|█▍                                       | 33/937 [00:05<02:22,  6.33it/s]"
     ]
    },
    {
     "name": "stdout",
     "output_type": "stream",
     "text": [
      "(64, 28, 28, 1) (64, 28, 28, 1)\n",
      "Noise: (64, 100)\n",
      "(64, 28, 28, 1) (64, 28, 28, 1)\n",
      "Noise: (64, 100)\n",
      "(64, 28, 28, 1) (64, 28, 28, 1)\n",
      "Noise: (64, 100)\n"
     ]
    },
    {
     "name": "stderr",
     "output_type": "stream",
     "text": [
      "\r",
      "  4%|█▌                                       | 36/937 [00:05<02:13,  6.74it/s]"
     ]
    },
    {
     "name": "stdout",
     "output_type": "stream",
     "text": [
      "(64, 28, 28, 1) (64, 28, 28, 1)\n",
      "Noise: (64, 100)\n",
      "(64, 28, 28, 1) (64, 28, 28, 1)\n",
      "Noise: (64, 100)\n",
      "(64, 28, 28, 1) (64, 28, 28, 1)\n",
      "Noise: (64, 100)\n"
     ]
    },
    {
     "name": "stderr",
     "output_type": "stream",
     "text": [
      "\r",
      "  4%|█▋                                       | 39/937 [00:05<02:05,  7.13it/s]"
     ]
    },
    {
     "name": "stdout",
     "output_type": "stream",
     "text": [
      "(64, 28, 28, 1) (64, 28, 28, 1)\n",
      "Noise: (64, 100)\n",
      "(64, 28, 28, 1) (64, 28, 28, 1)\n",
      "Noise: (64, 100)\n",
      "(64, 28, 28, 1) (64, 28, 28, 1)\n",
      "Noise: (64, 100)\n"
     ]
    },
    {
     "name": "stderr",
     "output_type": "stream",
     "text": [
      "\r",
      "  4%|█▊                                       | 42/937 [00:05<01:59,  7.51it/s]"
     ]
    },
    {
     "name": "stdout",
     "output_type": "stream",
     "text": [
      "(64, 28, 28, 1) (64, 28, 28, 1)\n",
      "Noise: (64, 100)\n",
      "(64, 28, 28, 1) (64, 28, 28, 1)\n",
      "Noise: (64, 100)\n",
      "(64, 28, 28, 1) (64, 28, 28, 1)\n",
      "Noise: (64, 100)\n"
     ]
    },
    {
     "name": "stderr",
     "output_type": "stream",
     "text": [
      "\r",
      "  5%|█▉                                       | 45/937 [00:05<01:53,  7.86it/s]"
     ]
    },
    {
     "name": "stdout",
     "output_type": "stream",
     "text": [
      "(64, 28, 28, 1) (64, 28, 28, 1)\n",
      "Noise: (64, 100)\n",
      "(64, 28, 28, 1) (64, 28, 28, 1)\n",
      "Noise: (64, 100)\n",
      "(64, 28, 28, 1) (64, 28, 28, 1)\n",
      "Noise: (64, 100)\n"
     ]
    },
    {
     "name": "stderr",
     "output_type": "stream",
     "text": [
      "\r",
      "  5%|██                                       | 48/937 [00:05<01:48,  8.21it/s]"
     ]
    },
    {
     "name": "stdout",
     "output_type": "stream",
     "text": [
      "(64, 28, 28, 1) (64, 28, 28, 1)\n",
      "Noise: (64, 100)\n",
      "(64, 28, 28, 1) (64, 28, 28, 1)\n",
      "Noise: (64, 100)\n",
      "(64, 28, 28, 1) (64, 28, 28, 1)\n",
      "Noise: (64, 100)\n"
     ]
    },
    {
     "name": "stderr",
     "output_type": "stream",
     "text": [
      "\r",
      "  5%|██▏                                      | 51/937 [00:05<01:43,  8.55it/s]"
     ]
    },
    {
     "name": "stdout",
     "output_type": "stream",
     "text": [
      "(64, 28, 28, 1) (64, 28, 28, 1)\n",
      "Noise: (64, 100)\n",
      "(64, 28, 28, 1) (64, 28, 28, 1)\n",
      "Noise: (64, 100)\n",
      "(64, 28, 28, 1) (64, 28, 28, 1)\n",
      "Noise: (64, 100)\n"
     ]
    },
    {
     "name": "stderr",
     "output_type": "stream",
     "text": [
      "\r",
      "  6%|██▎                                      | 54/937 [00:06<01:39,  8.87it/s]"
     ]
    },
    {
     "name": "stdout",
     "output_type": "stream",
     "text": [
      "(64, 28, 28, 1) (64, 28, 28, 1)\n",
      "Noise: (64, 100)\n",
      "(64, 28, 28, 1) (64, 28, 28, 1)\n",
      "Noise: (64, 100)\n",
      "(64, 28, 28, 1) (64, 28, 28, 1)\n",
      "Noise: (64, 100)\n"
     ]
    },
    {
     "name": "stderr",
     "output_type": "stream",
     "text": [
      "\r",
      "  6%|██▍                                      | 57/937 [00:06<01:35,  9.18it/s]"
     ]
    },
    {
     "name": "stdout",
     "output_type": "stream",
     "text": [
      "(64, 28, 28, 1) (64, 28, 28, 1)\n",
      "Noise: (64, 100)\n",
      "(64, 28, 28, 1) (64, 28, 28, 1)\n",
      "Noise: (64, 100)\n",
      "(64, 28, 28, 1) (64, 28, 28, 1)\n",
      "Noise: (64, 100)\n"
     ]
    },
    {
     "name": "stderr",
     "output_type": "stream",
     "text": [
      "\r",
      "  6%|██▋                                      | 60/937 [00:06<01:32,  9.48it/s]"
     ]
    },
    {
     "name": "stdout",
     "output_type": "stream",
     "text": [
      "(64, 28, 28, 1) (64, 28, 28, 1)\n",
      "Noise: (64, 100)\n",
      "(64, 28, 28, 1) (64, 28, 28, 1)\n",
      "Noise: (64, 100)\n",
      "(64, 28, 28, 1) (64, 28, 28, 1)\n",
      "Noise: (64, 100)\n"
     ]
    },
    {
     "name": "stderr",
     "output_type": "stream",
     "text": [
      "\r",
      "  7%|██▊                                      | 63/937 [00:06<01:29,  9.76it/s]"
     ]
    },
    {
     "name": "stdout",
     "output_type": "stream",
     "text": [
      "(64, 28, 28, 1) (64, 28, 28, 1)\n",
      "Noise: (64, 100)\n",
      "(64, 28, 28, 1) (64, 28, 28, 1)\n",
      "Noise: (64, 100)\n",
      "(64, 28, 28, 1) (64, 28, 28, 1)\n",
      "Noise: (64, 100)\n"
     ]
    },
    {
     "name": "stderr",
     "output_type": "stream",
     "text": [
      "\r",
      "  7%|██▉                                      | 66/937 [00:06<01:26, 10.02it/s]"
     ]
    },
    {
     "name": "stdout",
     "output_type": "stream",
     "text": [
      "(64, 28, 28, 1) (64, 28, 28, 1)\n",
      "Noise: (64, 100)\n",
      "(64, 28, 28, 1) (64, 28, 28, 1)\n",
      "Noise: (64, 100)\n",
      "(64, 28, 28, 1) (64, 28, 28, 1)\n",
      "Noise: (64, 100)\n"
     ]
    },
    {
     "name": "stderr",
     "output_type": "stream",
     "text": [
      "\r",
      "  7%|███                                      | 69/937 [00:06<01:24, 10.28it/s]"
     ]
    },
    {
     "name": "stdout",
     "output_type": "stream",
     "text": [
      "(64, 28, 28, 1) (64, 28, 28, 1)\n",
      "Noise: (64, 100)\n",
      "(64, 28, 28, 1) (64, 28, 28, 1)\n",
      "Noise: (64, 100)\n",
      "(64, 28, 28, 1) (64, 28, 28, 1)\n",
      "Noise: (64, 100)\n"
     ]
    },
    {
     "name": "stderr",
     "output_type": "stream",
     "text": [
      "\r",
      "  8%|███▏                                     | 72/937 [00:06<01:22, 10.52it/s]"
     ]
    },
    {
     "name": "stdout",
     "output_type": "stream",
     "text": [
      "(64, 28, 28, 1) (64, 28, 28, 1)\n",
      "Noise: (64, 100)\n",
      "(64, 28, 28, 1) (64, 28, 28, 1)\n",
      "Noise: (64, 100)\n",
      "(64, 28, 28, 1) (64, 28, 28, 1)\n",
      "Noise: (64, 100)\n"
     ]
    },
    {
     "name": "stderr",
     "output_type": "stream",
     "text": [
      "\r",
      "  8%|███▎                                     | 75/937 [00:06<01:20, 10.75it/s]"
     ]
    },
    {
     "name": "stdout",
     "output_type": "stream",
     "text": [
      "(64, 28, 28, 1) (64, 28, 28, 1)\n",
      "Noise: (64, 100)\n",
      "(64, 28, 28, 1) (64, 28, 28, 1)\n",
      "Noise: (64, 100)\n",
      "(64, 28, 28, 1) (64, 28, 28, 1)\n",
      "Noise: (64, 100)\n"
     ]
    },
    {
     "name": "stderr",
     "output_type": "stream",
     "text": [
      "\r",
      "  8%|███▍                                     | 78/937 [00:07<01:18, 10.99it/s]"
     ]
    },
    {
     "name": "stdout",
     "output_type": "stream",
     "text": [
      "(64, 28, 28, 1) (64, 28, 28, 1)\n",
      "Noise: (64, 100)\n",
      "(64, 28, 28, 1) (64, 28, 28, 1)\n",
      "Noise: (64, 100)\n",
      "(64, 28, 28, 1) (64, 28, 28, 1)\n",
      "Noise: (64, 100)\n"
     ]
    },
    {
     "name": "stderr",
     "output_type": "stream",
     "text": [
      "\r",
      "  9%|███▌                                     | 81/937 [00:07<01:16, 11.21it/s]"
     ]
    },
    {
     "name": "stdout",
     "output_type": "stream",
     "text": [
      "(64, 28, 28, 1) (64, 28, 28, 1)\n",
      "Noise: (64, 100)\n",
      "(64, 28, 28, 1) (64, 28, 28, 1)\n",
      "Noise: (64, 100)\n",
      "(64, 28, 28, 1) (64, 28, 28, 1)\n",
      "Noise: (64, 100)\n"
     ]
    },
    {
     "name": "stderr",
     "output_type": "stream",
     "text": [
      "\r",
      "  9%|███▋                                     | 84/937 [00:07<01:14, 11.42it/s]"
     ]
    },
    {
     "name": "stdout",
     "output_type": "stream",
     "text": [
      "(64, 28, 28, 1) (64, 28, 28, 1)\n",
      "Noise: (64, 100)\n",
      "(64, 28, 28, 1) (64, 28, 28, 1)\n",
      "Noise: (64, 100)\n",
      "(64, 28, 28, 1) (64, 28, 28, 1)\n",
      "Noise: (64, 100)\n"
     ]
    },
    {
     "name": "stderr",
     "output_type": "stream",
     "text": [
      "\r",
      "  9%|███▊                                     | 87/937 [00:07<01:13, 11.62it/s]"
     ]
    },
    {
     "name": "stdout",
     "output_type": "stream",
     "text": [
      "(64, 28, 28, 1) (64, 28, 28, 1)\n",
      "Noise: (64, 100)\n",
      "(64, 28, 28, 1) (64, 28, 28, 1)\n",
      "Noise: (64, 100)\n",
      "(64, 28, 28, 1) (64, 28, 28, 1)\n",
      "Noise: (64, 100)\n"
     ]
    },
    {
     "name": "stderr",
     "output_type": "stream",
     "text": [
      "\r",
      " 10%|███▉                                     | 90/937 [00:07<01:11, 11.82it/s]"
     ]
    },
    {
     "name": "stdout",
     "output_type": "stream",
     "text": [
      "(64, 28, 28, 1) (64, 28, 28, 1)\n",
      "Noise: (64, 100)\n",
      "(64, 28, 28, 1) (64, 28, 28, 1)\n",
      "Noise: (64, 100)\n",
      "(64, 28, 28, 1) (64, 28, 28, 1)\n",
      "Noise: (64, 100)\n"
     ]
    },
    {
     "name": "stderr",
     "output_type": "stream",
     "text": [
      "\r",
      " 10%|████                                     | 93/937 [00:07<01:10, 12.01it/s]"
     ]
    },
    {
     "name": "stdout",
     "output_type": "stream",
     "text": [
      "(64, 28, 28, 1) (64, 28, 28, 1)\n",
      "Noise: (64, 100)\n",
      "(64, 28, 28, 1) (64, 28, 28, 1)\n",
      "Noise: (64, 100)\n",
      "(64, 28, 28, 1) (64, 28, 28, 1)\n",
      "Noise: (64, 100)\n"
     ]
    },
    {
     "name": "stderr",
     "output_type": "stream",
     "text": [
      "\r",
      " 10%|████▏                                    | 96/937 [00:07<01:08, 12.20it/s]"
     ]
    },
    {
     "name": "stdout",
     "output_type": "stream",
     "text": [
      "(64, 28, 28, 1) (64, 28, 28, 1)\n",
      "Noise: (64, 100)\n",
      "(64, 28, 28, 1) (64, 28, 28, 1)\n",
      "Noise: (64, 100)\n",
      "(64, 28, 28, 1) (64, 28, 28, 1)\n",
      "Noise: (64, 100)\n"
     ]
    },
    {
     "name": "stderr",
     "output_type": "stream",
     "text": [
      "\r",
      " 11%|████▎                                    | 99/937 [00:07<01:07, 12.38it/s]"
     ]
    },
    {
     "name": "stdout",
     "output_type": "stream",
     "text": [
      "(64, 28, 28, 1) (64, 28, 28, 1)\n",
      "Noise: (64, 100)\n",
      "(64, 28, 28, 1) (64, 28, 28, 1)\n",
      "Noise: (64, 100)\n",
      "(64, 28, 28, 1) (64, 28, 28, 1)\n",
      "Noise: (64, 100)\n"
     ]
    },
    {
     "name": "stderr",
     "output_type": "stream",
     "text": [
      "\r",
      " 11%|████▎                                   | 102/937 [00:08<01:06, 12.55it/s]"
     ]
    },
    {
     "name": "stdout",
     "output_type": "stream",
     "text": [
      "(64, 28, 28, 1) (64, 28, 28, 1)\n",
      "Noise: (64, 100)\n",
      "(64, 28, 28, 1) (64, 28, 28, 1)\n",
      "Noise: (64, 100)\n",
      "(64, 28, 28, 1) (64, 28, 28, 1)\n",
      "Noise: (64, 100)\n"
     ]
    },
    {
     "name": "stderr",
     "output_type": "stream",
     "text": [
      "\r",
      " 11%|████▍                                   | 105/937 [00:08<01:05, 12.73it/s]"
     ]
    },
    {
     "name": "stdout",
     "output_type": "stream",
     "text": [
      "(64, 28, 28, 1) (64, 28, 28, 1)\n",
      "Noise: (64, 100)\n",
      "(64, 28, 28, 1) (64, 28, 28, 1)\n",
      "Noise: (64, 100)\n",
      "(64, 28, 28, 1) (64, 28, 28, 1)\n",
      "Noise: (64, 100)\n"
     ]
    },
    {
     "name": "stderr",
     "output_type": "stream",
     "text": [
      "\r",
      " 12%|████▌                                   | 108/937 [00:08<01:04, 12.88it/s]"
     ]
    },
    {
     "name": "stdout",
     "output_type": "stream",
     "text": [
      "(64, 28, 28, 1) (64, 28, 28, 1)\n",
      "Noise: (64, 100)\n",
      "(64, 28, 28, 1) (64, 28, 28, 1)\n",
      "Noise: (64, 100)\n",
      "(64, 28, 28, 1) (64, 28, 28, 1)\n",
      "Noise: (64, 100)\n"
     ]
    },
    {
     "name": "stderr",
     "output_type": "stream",
     "text": [
      "\r",
      " 12%|████▋                                   | 111/937 [00:08<01:03, 13.04it/s]"
     ]
    },
    {
     "name": "stdout",
     "output_type": "stream",
     "text": [
      "(64, 28, 28, 1) (64, 28, 28, 1)\n",
      "Noise: (64, 100)\n",
      "(64, 28, 28, 1) (64, 28, 28, 1)\n",
      "Noise: (64, 100)\n",
      "(64, 28, 28, 1) (64, 28, 28, 1)\n",
      "Noise: (64, 100)\n"
     ]
    },
    {
     "name": "stderr",
     "output_type": "stream",
     "text": [
      "\r",
      " 12%|████▊                                   | 114/937 [00:08<01:02, 13.20it/s]"
     ]
    },
    {
     "name": "stdout",
     "output_type": "stream",
     "text": [
      "(64, 28, 28, 1) (64, 28, 28, 1)\n",
      "Noise: (64, 100)\n",
      "(64, 28, 28, 1) (64, 28, 28, 1)\n",
      "Noise: (64, 100)\n",
      "(64, 28, 28, 1) (64, 28, 28, 1)\n",
      "Noise: (64, 100)\n"
     ]
    },
    {
     "name": "stderr",
     "output_type": "stream",
     "text": [
      "\r",
      " 12%|████▉                                   | 117/937 [00:08<01:01, 13.36it/s]"
     ]
    },
    {
     "name": "stdout",
     "output_type": "stream",
     "text": [
      "(64, 28, 28, 1) (64, 28, 28, 1)\n",
      "Noise: (64, 100)\n",
      "(64, 28, 28, 1) (64, 28, 28, 1)\n",
      "Noise: (64, 100)\n",
      "(64, 28, 28, 1) (64, 28, 28, 1)\n",
      "Noise: (64, 100)\n"
     ]
    },
    {
     "name": "stderr",
     "output_type": "stream",
     "text": [
      "\r",
      " 13%|█████                                   | 120/937 [00:08<01:00, 13.51it/s]"
     ]
    },
    {
     "name": "stdout",
     "output_type": "stream",
     "text": [
      "(64, 28, 28, 1) (64, 28, 28, 1)\n",
      "Noise: (64, 100)\n",
      "(64, 28, 28, 1) (64, 28, 28, 1)\n",
      "Noise: (64, 100)\n",
      "(64, 28, 28, 1) (64, 28, 28, 1)\n",
      "Noise: (64, 100)\n"
     ]
    },
    {
     "name": "stderr",
     "output_type": "stream",
     "text": [
      "\r",
      " 13%|█████▎                                  | 123/937 [00:09<00:59, 13.64it/s]"
     ]
    },
    {
     "name": "stdout",
     "output_type": "stream",
     "text": [
      "(64, 28, 28, 1) (64, 28, 28, 1)\n",
      "Noise: (64, 100)\n",
      "(64, 28, 28, 1) (64, 28, 28, 1)\n",
      "Noise: (64, 100)\n",
      "(64, 28, 28, 1) (64, 28, 28, 1)\n",
      "Noise: (64, 100)\n"
     ]
    },
    {
     "name": "stderr",
     "output_type": "stream",
     "text": [
      "\r",
      " 13%|█████▍                                  | 126/937 [00:09<00:58, 13.79it/s]"
     ]
    },
    {
     "name": "stdout",
     "output_type": "stream",
     "text": [
      "(64, 28, 28, 1) (64, 28, 28, 1)\n",
      "Noise: (64, 100)\n",
      "(64, 28, 28, 1) (64, 28, 28, 1)\n",
      "Noise: (64, 100)\n",
      "(64, 28, 28, 1) (64, 28, 28, 1)\n",
      "Noise: (64, 100)\n"
     ]
    },
    {
     "name": "stderr",
     "output_type": "stream",
     "text": [
      "\r",
      " 14%|█████▌                                  | 129/937 [00:09<00:58, 13.93it/s]"
     ]
    },
    {
     "name": "stdout",
     "output_type": "stream",
     "text": [
      "(64, 28, 28, 1) (64, 28, 28, 1)\n",
      "Noise: (64, 100)\n",
      "(64, 28, 28, 1) (64, 28, 28, 1)\n",
      "Noise: (64, 100)\n",
      "(64, 28, 28, 1) (64, 28, 28, 1)\n",
      "Noise: (64, 100)\n"
     ]
    },
    {
     "name": "stderr",
     "output_type": "stream",
     "text": [
      "\r",
      " 14%|█████▋                                  | 132/937 [00:09<00:57, 14.06it/s]"
     ]
    },
    {
     "name": "stdout",
     "output_type": "stream",
     "text": [
      "(64, 28, 28, 1) (64, 28, 28, 1)\n",
      "Noise: (64, 100)\n",
      "(64, 28, 28, 1) (64, 28, 28, 1)\n",
      "Noise: (64, 100)\n",
      "(64, 28, 28, 1) (64, 28, 28, 1)\n",
      "Noise: (64, 100)\n"
     ]
    },
    {
     "name": "stderr",
     "output_type": "stream",
     "text": [
      "\r",
      " 14%|█████▊                                  | 135/937 [00:09<00:56, 14.19it/s]"
     ]
    },
    {
     "name": "stdout",
     "output_type": "stream",
     "text": [
      "(64, 28, 28, 1) (64, 28, 28, 1)\n",
      "Noise: (64, 100)\n",
      "(64, 28, 28, 1) (64, 28, 28, 1)\n",
      "Noise: (64, 100)\n",
      "(64, 28, 28, 1) (64, 28, 28, 1)\n",
      "Noise: (64, 100)\n"
     ]
    },
    {
     "name": "stderr",
     "output_type": "stream",
     "text": [
      "\r",
      " 15%|█████▉                                  | 138/937 [00:09<00:55, 14.31it/s]"
     ]
    },
    {
     "name": "stdout",
     "output_type": "stream",
     "text": [
      "(64, 28, 28, 1) (64, 28, 28, 1)\n",
      "Noise: (64, 100)\n",
      "(64, 28, 28, 1) (64, 28, 28, 1)\n",
      "Noise: (64, 100)\n",
      "(64, 28, 28, 1) (64, 28, 28, 1)\n",
      "Noise: (64, 100)\n"
     ]
    },
    {
     "name": "stderr",
     "output_type": "stream",
     "text": [
      "\r",
      " 15%|██████                                  | 141/937 [00:09<00:55, 14.42it/s]"
     ]
    },
    {
     "name": "stdout",
     "output_type": "stream",
     "text": [
      "(64, 28, 28, 1) (64, 28, 28, 1)\n",
      "Noise: (64, 100)\n",
      "(64, 28, 28, 1) (64, 28, 28, 1)\n",
      "Noise: (64, 100)\n",
      "(64, 28, 28, 1) (64, 28, 28, 1)\n",
      "Noise: (64, 100)\n"
     ]
    },
    {
     "name": "stderr",
     "output_type": "stream",
     "text": [
      "\r",
      " 15%|██████▏                                 | 144/937 [00:09<00:54, 14.54it/s]"
     ]
    },
    {
     "name": "stdout",
     "output_type": "stream",
     "text": [
      "(64, 28, 28, 1) (64, 28, 28, 1)\n",
      "Noise: (64, 100)\n",
      "(64, 28, 28, 1) (64, 28, 28, 1)\n",
      "Noise: (64, 100)\n",
      "(64, 28, 28, 1) (64, 28, 28, 1)\n",
      "Noise: (64, 100)\n"
     ]
    },
    {
     "name": "stderr",
     "output_type": "stream",
     "text": [
      "\r",
      " 16%|██████▎                                 | 147/937 [00:10<00:53, 14.66it/s]"
     ]
    },
    {
     "name": "stdout",
     "output_type": "stream",
     "text": [
      "(64, 28, 28, 1) (64, 28, 28, 1)\n",
      "Noise: (64, 100)\n",
      "(64, 28, 28, 1) (64, 28, 28, 1)\n",
      "Noise: (64, 100)\n",
      "(64, 28, 28, 1) (64, 28, 28, 1)\n",
      "Noise: (64, 100)\n"
     ]
    },
    {
     "name": "stderr",
     "output_type": "stream",
     "text": [
      "\r",
      " 16%|██████▍                                 | 150/937 [00:10<00:53, 14.77it/s]"
     ]
    },
    {
     "name": "stdout",
     "output_type": "stream",
     "text": [
      "(64, 28, 28, 1) (64, 28, 28, 1)\n",
      "Noise: (64, 100)\n",
      "(64, 28, 28, 1) (64, 28, 28, 1)\n",
      "Noise: (64, 100)\n",
      "(64, 28, 28, 1) (64, 28, 28, 1)\n",
      "Noise: (64, 100)\n"
     ]
    },
    {
     "name": "stderr",
     "output_type": "stream",
     "text": [
      "\r",
      " 16%|██████▌                                 | 153/937 [00:10<00:52, 14.88it/s]"
     ]
    },
    {
     "name": "stdout",
     "output_type": "stream",
     "text": [
      "(64, 28, 28, 1) (64, 28, 28, 1)\n",
      "Noise: (64, 100)\n",
      "(64, 28, 28, 1) (64, 28, 28, 1)\n",
      "Noise: (64, 100)\n",
      "(64, 28, 28, 1) (64, 28, 28, 1)\n",
      "Noise: (64, 100)\n"
     ]
    },
    {
     "name": "stderr",
     "output_type": "stream",
     "text": [
      "\r",
      " 17%|██████▋                                 | 156/937 [00:10<00:52, 14.98it/s]"
     ]
    },
    {
     "name": "stdout",
     "output_type": "stream",
     "text": [
      "(64, 28, 28, 1) (64, 28, 28, 1)\n",
      "Noise: (64, 100)\n",
      "(64, 28, 28, 1) (64, 28, 28, 1)\n",
      "Noise: (64, 100)\n",
      "(64, 28, 28, 1) (64, 28, 28, 1)\n",
      "Noise: (64, 100)\n"
     ]
    },
    {
     "name": "stderr",
     "output_type": "stream",
     "text": [
      "\r",
      " 17%|██████▊                                 | 159/937 [00:10<00:51, 15.09it/s]"
     ]
    },
    {
     "name": "stdout",
     "output_type": "stream",
     "text": [
      "(64, 28, 28, 1) (64, 28, 28, 1)\n",
      "Noise: (64, 100)\n",
      "(64, 28, 28, 1) (64, 28, 28, 1)\n",
      "Noise: (64, 100)\n",
      "(64, 28, 28, 1) (64, 28, 28, 1)\n",
      "Noise: (64, 100)\n"
     ]
    },
    {
     "name": "stderr",
     "output_type": "stream",
     "text": [
      "\r",
      " 17%|██████▉                                 | 162/937 [00:10<00:50, 15.20it/s]"
     ]
    },
    {
     "name": "stdout",
     "output_type": "stream",
     "text": [
      "(64, 28, 28, 1) (64, 28, 28, 1)\n",
      "Noise: (64, 100)\n",
      "(64, 28, 28, 1) (64, 28, 28, 1)\n",
      "Noise: (64, 100)\n",
      "(64, 28, 28, 1) (64, 28, 28, 1)\n",
      "Noise: (64, 100)\n"
     ]
    },
    {
     "name": "stderr",
     "output_type": "stream",
     "text": [
      "\r",
      " 18%|███████                                 | 165/937 [00:10<00:50, 15.29it/s]"
     ]
    },
    {
     "name": "stdout",
     "output_type": "stream",
     "text": [
      "(64, 28, 28, 1) (64, 28, 28, 1)\n",
      "Noise: (64, 100)\n",
      "(64, 28, 28, 1) (64, 28, 28, 1)\n",
      "Noise: (64, 100)\n",
      "(64, 28, 28, 1) (64, 28, 28, 1)\n",
      "Noise: (64, 100)\n"
     ]
    },
    {
     "name": "stderr",
     "output_type": "stream",
     "text": [
      "\r",
      " 18%|███████▏                                | 168/937 [00:10<00:49, 15.38it/s]"
     ]
    },
    {
     "name": "stdout",
     "output_type": "stream",
     "text": [
      "(64, 28, 28, 1) (64, 28, 28, 1)\n",
      "Noise: (64, 100)\n",
      "(64, 28, 28, 1) (64, 28, 28, 1)\n",
      "Noise: (64, 100)\n",
      "(64, 28, 28, 1) (64, 28, 28, 1)\n",
      "Noise: (64, 100)\n"
     ]
    },
    {
     "name": "stderr",
     "output_type": "stream",
     "text": [
      "\r",
      " 18%|███████▎                                | 171/937 [00:11<00:49, 15.48it/s]"
     ]
    },
    {
     "name": "stdout",
     "output_type": "stream",
     "text": [
      "(64, 28, 28, 1) (64, 28, 28, 1)\n",
      "Noise: (64, 100)\n",
      "(64, 28, 28, 1) (64, 28, 28, 1)\n",
      "Noise: (64, 100)\n",
      "(64, 28, 28, 1) (64, 28, 28, 1)\n",
      "Noise: (64, 100)\n"
     ]
    },
    {
     "name": "stderr",
     "output_type": "stream",
     "text": [
      "\r",
      " 19%|███████▍                                | 174/937 [00:11<00:48, 15.58it/s]"
     ]
    },
    {
     "name": "stdout",
     "output_type": "stream",
     "text": [
      "(64, 28, 28, 1) (64, 28, 28, 1)\n",
      "Noise: (64, 100)\n",
      "(64, 28, 28, 1) (64, 28, 28, 1)\n",
      "Noise: (64, 100)\n",
      "(64, 28, 28, 1) (64, 28, 28, 1)\n",
      "Noise: (64, 100)\n"
     ]
    },
    {
     "name": "stderr",
     "output_type": "stream",
     "text": [
      "\r",
      " 19%|███████▌                                | 177/937 [00:11<00:48, 15.67it/s]"
     ]
    },
    {
     "name": "stdout",
     "output_type": "stream",
     "text": [
      "(64, 28, 28, 1) (64, 28, 28, 1)\n",
      "Noise: (64, 100)\n",
      "(64, 28, 28, 1) (64, 28, 28, 1)\n",
      "Noise: (64, 100)\n",
      "(64, 28, 28, 1) (64, 28, 28, 1)\n",
      "Noise: (64, 100)\n"
     ]
    },
    {
     "name": "stderr",
     "output_type": "stream",
     "text": [
      "\r",
      " 19%|███████▋                                | 180/937 [00:11<00:48, 15.75it/s]"
     ]
    },
    {
     "name": "stdout",
     "output_type": "stream",
     "text": [
      "(64, 28, 28, 1) (64, 28, 28, 1)\n",
      "Noise: (64, 100)\n",
      "(64, 28, 28, 1) (64, 28, 28, 1)\n",
      "Noise: (64, 100)\n",
      "(64, 28, 28, 1) (64, 28, 28, 1)\n",
      "Noise: (64, 100)\n"
     ]
    },
    {
     "name": "stderr",
     "output_type": "stream",
     "text": [
      "\r",
      " 20%|███████▊                                | 183/937 [00:11<00:47, 15.84it/s]"
     ]
    },
    {
     "name": "stdout",
     "output_type": "stream",
     "text": [
      "(64, 28, 28, 1) (64, 28, 28, 1)\n",
      "Noise: (64, 100)\n",
      "(64, 28, 28, 1) (64, 28, 28, 1)\n",
      "Noise: (64, 100)\n",
      "(64, 28, 28, 1) (64, 28, 28, 1)\n",
      "Noise: (64, 100)\n"
     ]
    },
    {
     "name": "stderr",
     "output_type": "stream",
     "text": [
      "\r",
      " 20%|███████▉                                | 186/937 [00:11<00:47, 15.93it/s]"
     ]
    },
    {
     "name": "stdout",
     "output_type": "stream",
     "text": [
      "(64, 28, 28, 1) (64, 28, 28, 1)\n",
      "Noise: (64, 100)\n",
      "(64, 28, 28, 1) (64, 28, 28, 1)\n",
      "Noise: (64, 100)\n",
      "(64, 28, 28, 1) (64, 28, 28, 1)\n",
      "Noise: (64, 100)\n"
     ]
    },
    {
     "name": "stderr",
     "output_type": "stream",
     "text": [
      "\r",
      " 20%|████████                                | 189/937 [00:11<00:46, 16.01it/s]"
     ]
    },
    {
     "name": "stdout",
     "output_type": "stream",
     "text": [
      "(64, 28, 28, 1) (64, 28, 28, 1)\n",
      "Noise: (64, 100)\n",
      "(64, 28, 28, 1) (64, 28, 28, 1)\n",
      "Noise: (64, 100)\n",
      "(64, 28, 28, 1) (64, 28, 28, 1)\n",
      "Noise: (64, 100)\n"
     ]
    },
    {
     "name": "stderr",
     "output_type": "stream",
     "text": [
      "\r",
      " 20%|████████▏                               | 192/937 [00:11<00:46, 16.09it/s]"
     ]
    },
    {
     "name": "stdout",
     "output_type": "stream",
     "text": [
      "(64, 28, 28, 1) (64, 28, 28, 1)\n",
      "Noise: (64, 100)\n",
      "(64, 28, 28, 1) (64, 28, 28, 1)\n",
      "Noise: (64, 100)\n",
      "(64, 28, 28, 1) (64, 28, 28, 1)\n",
      "Noise: (64, 100)\n"
     ]
    },
    {
     "name": "stderr",
     "output_type": "stream",
     "text": [
      "\r",
      " 21%|████████▎                               | 195/937 [00:12<00:45, 16.18it/s]"
     ]
    },
    {
     "name": "stdout",
     "output_type": "stream",
     "text": [
      "(64, 28, 28, 1) (64, 28, 28, 1)\n",
      "Noise: (64, 100)\n",
      "(64, 28, 28, 1) (64, 28, 28, 1)\n",
      "Noise: (64, 100)\n",
      "(64, 28, 28, 1) (64, 28, 28, 1)\n",
      "Noise: (64, 100)\n"
     ]
    },
    {
     "name": "stderr",
     "output_type": "stream",
     "text": [
      "\r",
      " 21%|████████▍                               | 198/937 [00:12<00:45, 16.26it/s]"
     ]
    },
    {
     "name": "stdout",
     "output_type": "stream",
     "text": [
      "(64, 28, 28, 1) (64, 28, 28, 1)\n",
      "Noise: (64, 100)\n",
      "(64, 28, 28, 1) (64, 28, 28, 1)\n",
      "Noise: (64, 100)\n",
      "(64, 28, 28, 1) (64, 28, 28, 1)\n",
      "Noise: (64, 100)\n"
     ]
    },
    {
     "name": "stderr",
     "output_type": "stream",
     "text": [
      "\r",
      " 21%|████████▌                               | 201/937 [00:12<00:45, 16.33it/s]"
     ]
    },
    {
     "name": "stdout",
     "output_type": "stream",
     "text": [
      "(64, 28, 28, 1) (64, 28, 28, 1)\n",
      "Noise: (64, 100)\n",
      "(64, 28, 28, 1) (64, 28, 28, 1)\n",
      "Noise: (64, 100)\n",
      "(64, 28, 28, 1) (64, 28, 28, 1)\n",
      "Noise: (64, 100)\n"
     ]
    },
    {
     "name": "stderr",
     "output_type": "stream",
     "text": [
      "\r",
      " 22%|████████▋                               | 204/937 [00:12<00:44, 16.42it/s]"
     ]
    },
    {
     "name": "stdout",
     "output_type": "stream",
     "text": [
      "(64, 28, 28, 1) (64, 28, 28, 1)\n",
      "Noise: (64, 100)\n",
      "(64, 28, 28, 1) (64, 28, 28, 1)\n",
      "Noise: (64, 100)\n",
      "(64, 28, 28, 1) (64, 28, 28, 1)\n",
      "Noise: (64, 100)\n"
     ]
    },
    {
     "name": "stderr",
     "output_type": "stream",
     "text": [
      "\r",
      " 22%|████████▊                               | 207/937 [00:12<00:44, 16.50it/s]"
     ]
    },
    {
     "name": "stdout",
     "output_type": "stream",
     "text": [
      "(64, 28, 28, 1) (64, 28, 28, 1)\n",
      "Noise: (64, 100)\n",
      "(64, 28, 28, 1) (64, 28, 28, 1)\n",
      "Noise: (64, 100)\n",
      "(64, 28, 28, 1) (64, 28, 28, 1)\n",
      "Noise: (64, 100)\n"
     ]
    },
    {
     "name": "stderr",
     "output_type": "stream",
     "text": [
      "\r",
      " 22%|████████▉                               | 210/937 [00:12<00:43, 16.57it/s]"
     ]
    },
    {
     "name": "stdout",
     "output_type": "stream",
     "text": [
      "(64, 28, 28, 1) (64, 28, 28, 1)\n",
      "Noise: (64, 100)\n",
      "(64, 28, 28, 1) (64, 28, 28, 1)\n",
      "Noise: (64, 100)\n",
      "(64, 28, 28, 1) (64, 28, 28, 1)\n",
      "Noise: (64, 100)\n"
     ]
    },
    {
     "name": "stderr",
     "output_type": "stream",
     "text": [
      "\r",
      " 23%|█████████                               | 213/937 [00:12<00:43, 16.64it/s]"
     ]
    },
    {
     "name": "stdout",
     "output_type": "stream",
     "text": [
      "(64, 28, 28, 1) (64, 28, 28, 1)\n",
      "Noise: (64, 100)\n",
      "(64, 28, 28, 1) (64, 28, 28, 1)\n",
      "Noise: (64, 100)\n",
      "(64, 28, 28, 1) (64, 28, 28, 1)\n",
      "Noise: (64, 100)\n"
     ]
    },
    {
     "name": "stderr",
     "output_type": "stream",
     "text": [
      "\r",
      " 23%|█████████▏                              | 216/937 [00:12<00:43, 16.70it/s]"
     ]
    },
    {
     "name": "stdout",
     "output_type": "stream",
     "text": [
      "(64, 28, 28, 1) (64, 28, 28, 1)\n",
      "Noise: (64, 100)\n",
      "(64, 28, 28, 1) (64, 28, 28, 1)\n",
      "Noise: (64, 100)\n",
      "(64, 28, 28, 1) (64, 28, 28, 1)\n",
      "Noise: (64, 100)\n"
     ]
    },
    {
     "name": "stderr",
     "output_type": "stream",
     "text": [
      "\r",
      " 23%|█████████▎                              | 219/937 [00:13<00:42, 16.77it/s]"
     ]
    },
    {
     "name": "stdout",
     "output_type": "stream",
     "text": [
      "(64, 28, 28, 1) (64, 28, 28, 1)\n",
      "Noise: (64, 100)\n",
      "(64, 28, 28, 1) (64, 28, 28, 1)\n",
      "Noise: (64, 100)\n",
      "(64, 28, 28, 1) (64, 28, 28, 1)\n",
      "Noise: (64, 100)\n"
     ]
    },
    {
     "name": "stderr",
     "output_type": "stream",
     "text": [
      "\r",
      " 24%|█████████▍                              | 222/937 [00:13<00:42, 16.83it/s]"
     ]
    },
    {
     "name": "stdout",
     "output_type": "stream",
     "text": [
      "(64, 28, 28, 1) (64, 28, 28, 1)\n",
      "Noise: (64, 100)\n",
      "(64, 28, 28, 1) (64, 28, 28, 1)\n",
      "Noise: (64, 100)\n",
      "(64, 28, 28, 1) (64, 28, 28, 1)\n",
      "Noise: (64, 100)\n"
     ]
    },
    {
     "name": "stderr",
     "output_type": "stream",
     "text": [
      "\r",
      " 24%|█████████▌                              | 225/937 [00:13<00:42, 16.90it/s]"
     ]
    },
    {
     "name": "stdout",
     "output_type": "stream",
     "text": [
      "(64, 28, 28, 1) (64, 28, 28, 1)\n",
      "Noise: (64, 100)\n",
      "(64, 28, 28, 1) (64, 28, 28, 1)\n",
      "Noise: (64, 100)\n",
      "(64, 28, 28, 1) (64, 28, 28, 1)\n",
      "Noise: (64, 100)\n"
     ]
    },
    {
     "name": "stderr",
     "output_type": "stream",
     "text": [
      "\r",
      " 24%|█████████▋                              | 228/937 [00:13<00:41, 16.97it/s]"
     ]
    },
    {
     "name": "stdout",
     "output_type": "stream",
     "text": [
      "(64, 28, 28, 1) (64, 28, 28, 1)\n",
      "Noise: (64, 100)\n",
      "(64, 28, 28, 1) (64, 28, 28, 1)\n",
      "Noise: (64, 100)\n",
      "(64, 28, 28, 1) (64, 28, 28, 1)\n",
      "Noise: (64, 100)\n"
     ]
    },
    {
     "name": "stderr",
     "output_type": "stream",
     "text": [
      "\r",
      " 25%|█████████▊                              | 231/937 [00:13<00:41, 17.04it/s]"
     ]
    },
    {
     "name": "stdout",
     "output_type": "stream",
     "text": [
      "(64, 28, 28, 1) (64, 28, 28, 1)\n",
      "Noise: (64, 100)\n",
      "(64, 28, 28, 1) (64, 28, 28, 1)\n",
      "Noise: (64, 100)\n",
      "(64, 28, 28, 1) (64, 28, 28, 1)\n",
      "Noise: (64, 100)\n"
     ]
    },
    {
     "name": "stderr",
     "output_type": "stream",
     "text": [
      "\r",
      " 25%|█████████▉                              | 234/937 [00:13<00:41, 17.10it/s]"
     ]
    },
    {
     "name": "stdout",
     "output_type": "stream",
     "text": [
      "(64, 28, 28, 1) (64, 28, 28, 1)\n",
      "Noise: (64, 100)\n",
      "(64, 28, 28, 1) (64, 28, 28, 1)\n",
      "Noise: (64, 100)\n",
      "(64, 28, 28, 1) (64, 28, 28, 1)\n",
      "Noise: (64, 100)\n"
     ]
    },
    {
     "name": "stderr",
     "output_type": "stream",
     "text": [
      "\r",
      " 25%|██████████                              | 237/937 [00:13<00:40, 17.16it/s]"
     ]
    },
    {
     "name": "stdout",
     "output_type": "stream",
     "text": [
      "(64, 28, 28, 1) (64, 28, 28, 1)\n",
      "Noise: (64, 100)\n",
      "(64, 28, 28, 1) (64, 28, 28, 1)\n",
      "Noise: (64, 100)\n",
      "(64, 28, 28, 1) (64, 28, 28, 1)\n",
      "Noise: (64, 100)\n"
     ]
    },
    {
     "name": "stderr",
     "output_type": "stream",
     "text": [
      "\r",
      " 26%|██████████▏                             | 240/937 [00:13<00:40, 17.22it/s]"
     ]
    },
    {
     "name": "stdout",
     "output_type": "stream",
     "text": [
      "(64, 28, 28, 1) (64, 28, 28, 1)\n",
      "Noise: (64, 100)\n",
      "(64, 28, 28, 1) (64, 28, 28, 1)\n",
      "Noise: (64, 100)\n",
      "(64, 28, 28, 1) (64, 28, 28, 1)\n",
      "Noise: (64, 100)\n"
     ]
    },
    {
     "name": "stderr",
     "output_type": "stream",
     "text": [
      "\r",
      " 26%|██████████▎                             | 243/937 [00:14<00:40, 17.28it/s]"
     ]
    },
    {
     "name": "stdout",
     "output_type": "stream",
     "text": [
      "(64, 28, 28, 1) (64, 28, 28, 1)\n",
      "Noise: (64, 100)\n",
      "(64, 28, 28, 1) (64, 28, 28, 1)\n",
      "Noise: (64, 100)\n",
      "(64, 28, 28, 1) (64, 28, 28, 1)\n",
      "Noise: (64, 100)\n"
     ]
    },
    {
     "name": "stderr",
     "output_type": "stream",
     "text": [
      "\r",
      " 26%|██████████▌                             | 246/937 [00:14<00:39, 17.34it/s]"
     ]
    },
    {
     "name": "stdout",
     "output_type": "stream",
     "text": [
      "(64, 28, 28, 1) (64, 28, 28, 1)\n",
      "Noise: (64, 100)\n",
      "(64, 28, 28, 1) (64, 28, 28, 1)\n",
      "Noise: (64, 100)\n",
      "(64, 28, 28, 1) (64, 28, 28, 1)\n",
      "Noise: (64, 100)\n"
     ]
    },
    {
     "name": "stderr",
     "output_type": "stream",
     "text": [
      "\r",
      " 27%|██████████▋                             | 249/937 [00:14<00:39, 17.40it/s]"
     ]
    },
    {
     "name": "stdout",
     "output_type": "stream",
     "text": [
      "(64, 28, 28, 1) (64, 28, 28, 1)\n",
      "Noise: (64, 100)\n",
      "(64, 28, 28, 1) (64, 28, 28, 1)\n",
      "Noise: (64, 100)\n",
      "(64, 28, 28, 1) (64, 28, 28, 1)\n",
      "Noise: (64, 100)\n"
     ]
    },
    {
     "name": "stderr",
     "output_type": "stream",
     "text": [
      "\r",
      " 27%|██████████▊                             | 252/937 [00:14<00:39, 17.47it/s]"
     ]
    },
    {
     "name": "stdout",
     "output_type": "stream",
     "text": [
      "(64, 28, 28, 1) (64, 28, 28, 1)\n",
      "Noise: (64, 100)\n",
      "(64, 28, 28, 1) (64, 28, 28, 1)\n",
      "Noise: (64, 100)\n",
      "(64, 28, 28, 1) (64, 28, 28, 1)\n",
      "Noise: (64, 100)\n"
     ]
    },
    {
     "name": "stderr",
     "output_type": "stream",
     "text": [
      "\r",
      " 27%|██████████▉                             | 255/937 [00:14<00:38, 17.53it/s]"
     ]
    },
    {
     "name": "stdout",
     "output_type": "stream",
     "text": [
      "(64, 28, 28, 1) (64, 28, 28, 1)\n",
      "Noise: (64, 100)\n",
      "(64, 28, 28, 1) (64, 28, 28, 1)\n",
      "Noise: (64, 100)\n",
      "(64, 28, 28, 1) (64, 28, 28, 1)\n",
      "Noise: (64, 100)\n"
     ]
    },
    {
     "name": "stderr",
     "output_type": "stream",
     "text": [
      "\r",
      " 28%|███████████                             | 258/937 [00:14<00:38, 17.59it/s]"
     ]
    },
    {
     "name": "stdout",
     "output_type": "stream",
     "text": [
      "(64, 28, 28, 1) (64, 28, 28, 1)\n",
      "Noise: (64, 100)\n",
      "(64, 28, 28, 1) (64, 28, 28, 1)\n",
      "Noise: (64, 100)\n",
      "(64, 28, 28, 1) (64, 28, 28, 1)\n",
      "Noise: (64, 100)\n"
     ]
    },
    {
     "name": "stderr",
     "output_type": "stream",
     "text": [
      "\r",
      " 28%|███████████▏                            | 261/937 [00:14<00:38, 17.64it/s]"
     ]
    },
    {
     "name": "stdout",
     "output_type": "stream",
     "text": [
      "(64, 28, 28, 1) (64, 28, 28, 1)\n",
      "Noise: (64, 100)\n",
      "(64, 28, 28, 1) (64, 28, 28, 1)\n",
      "Noise: (64, 100)\n",
      "(64, 28, 28, 1) (64, 28, 28, 1)\n",
      "Noise: (64, 100)\n"
     ]
    },
    {
     "name": "stderr",
     "output_type": "stream",
     "text": [
      "\r",
      " 28%|███████████▎                            | 264/937 [00:14<00:38, 17.70it/s]"
     ]
    },
    {
     "name": "stdout",
     "output_type": "stream",
     "text": [
      "(64, 28, 28, 1) (64, 28, 28, 1)\n",
      "Noise: (64, 100)\n",
      "(64, 28, 28, 1) (64, 28, 28, 1)\n",
      "Noise: (64, 100)\n",
      "(64, 28, 28, 1) (64, 28, 28, 1)\n",
      "Noise: (64, 100)\n"
     ]
    },
    {
     "name": "stderr",
     "output_type": "stream",
     "text": [
      "\r",
      " 28%|███████████▍                            | 267/937 [00:15<00:37, 17.75it/s]"
     ]
    },
    {
     "name": "stdout",
     "output_type": "stream",
     "text": [
      "(64, 28, 28, 1) (64, 28, 28, 1)\n",
      "Noise: (64, 100)\n",
      "(64, 28, 28, 1) (64, 28, 28, 1)\n",
      "Noise: (64, 100)\n",
      "(64, 28, 28, 1) (64, 28, 28, 1)\n",
      "Noise: (64, 100)\n"
     ]
    },
    {
     "name": "stderr",
     "output_type": "stream",
     "text": [
      "\r",
      " 29%|███████████▌                            | 270/937 [00:15<00:37, 17.80it/s]"
     ]
    },
    {
     "name": "stdout",
     "output_type": "stream",
     "text": [
      "(64, 28, 28, 1) (64, 28, 28, 1)\n",
      "Noise: (64, 100)\n",
      "(64, 28, 28, 1) (64, 28, 28, 1)\n",
      "Noise: (64, 100)\n",
      "(64, 28, 28, 1) (64, 28, 28, 1)\n",
      "Noise: (64, 100)\n"
     ]
    },
    {
     "name": "stderr",
     "output_type": "stream",
     "text": [
      "\r",
      " 29%|███████████▋                            | 273/937 [00:15<00:37, 17.84it/s]"
     ]
    },
    {
     "name": "stdout",
     "output_type": "stream",
     "text": [
      "(64, 28, 28, 1) (64, 28, 28, 1)\n",
      "Noise: (64, 100)\n",
      "(64, 28, 28, 1) (64, 28, 28, 1)\n",
      "Noise: (64, 100)\n",
      "(64, 28, 28, 1) (64, 28, 28, 1)\n",
      "Noise: (64, 100)\n"
     ]
    },
    {
     "name": "stderr",
     "output_type": "stream",
     "text": [
      "\r",
      " 29%|███████████▊                            | 276/937 [00:15<00:36, 17.88it/s]"
     ]
    },
    {
     "name": "stdout",
     "output_type": "stream",
     "text": [
      "(64, 28, 28, 1) (64, 28, 28, 1)\n",
      "Noise: (64, 100)\n",
      "(64, 28, 28, 1) (64, 28, 28, 1)\n",
      "Noise: (64, 100)\n",
      "(64, 28, 28, 1) (64, 28, 28, 1)\n",
      "Noise: (64, 100)\n"
     ]
    },
    {
     "name": "stderr",
     "output_type": "stream",
     "text": [
      "\r",
      " 30%|███████████▉                            | 279/937 [00:15<00:36, 17.93it/s]"
     ]
    },
    {
     "name": "stdout",
     "output_type": "stream",
     "text": [
      "(64, 28, 28, 1) (64, 28, 28, 1)\n",
      "Noise: (64, 100)\n",
      "(64, 28, 28, 1) (64, 28, 28, 1)\n",
      "Noise: (64, 100)\n",
      "(64, 28, 28, 1) (64, 28, 28, 1)\n",
      "Noise: (64, 100)\n"
     ]
    },
    {
     "name": "stderr",
     "output_type": "stream",
     "text": [
      "\r",
      " 30%|████████████                            | 282/937 [00:15<00:36, 17.98it/s]"
     ]
    },
    {
     "name": "stdout",
     "output_type": "stream",
     "text": [
      "(64, 28, 28, 1) (64, 28, 28, 1)\n",
      "Noise: (64, 100)\n",
      "(64, 28, 28, 1) (64, 28, 28, 1)\n",
      "Noise: (64, 100)\n",
      "(64, 28, 28, 1) (64, 28, 28, 1)\n",
      "Noise: (64, 100)\n"
     ]
    },
    {
     "name": "stderr",
     "output_type": "stream",
     "text": [
      "\r",
      " 30%|████████████▏                           | 285/937 [00:15<00:36, 18.02it/s]"
     ]
    },
    {
     "name": "stdout",
     "output_type": "stream",
     "text": [
      "(64, 28, 28, 1) (64, 28, 28, 1)\n",
      "Noise: (64, 100)\n",
      "(64, 28, 28, 1) (64, 28, 28, 1)\n",
      "Noise: (64, 100)\n",
      "(64, 28, 28, 1) (64, 28, 28, 1)\n",
      "Noise: (64, 100)\n"
     ]
    },
    {
     "name": "stderr",
     "output_type": "stream",
     "text": [
      "\r",
      " 31%|████████████▎                           | 288/937 [00:15<00:35, 18.07it/s]"
     ]
    },
    {
     "name": "stdout",
     "output_type": "stream",
     "text": [
      "(64, 28, 28, 1) (64, 28, 28, 1)\n",
      "Noise: (64, 100)\n",
      "(64, 28, 28, 1) (64, 28, 28, 1)\n",
      "Noise: (64, 100)\n",
      "(64, 28, 28, 1) (64, 28, 28, 1)\n",
      "Noise: (64, 100)\n"
     ]
    },
    {
     "name": "stderr",
     "output_type": "stream",
     "text": [
      "\r",
      " 31%|████████████▍                           | 291/937 [00:16<00:35, 18.11it/s]"
     ]
    },
    {
     "name": "stdout",
     "output_type": "stream",
     "text": [
      "(64, 28, 28, 1) (64, 28, 28, 1)\n",
      "Noise: (64, 100)\n",
      "(64, 28, 28, 1) (64, 28, 28, 1)\n",
      "Noise: (64, 100)\n",
      "(64, 28, 28, 1) (64, 28, 28, 1)\n",
      "Noise: (64, 100)\n"
     ]
    },
    {
     "name": "stderr",
     "output_type": "stream",
     "text": [
      "\r",
      " 31%|████████████▌                           | 294/937 [00:16<00:35, 18.15it/s]"
     ]
    },
    {
     "name": "stdout",
     "output_type": "stream",
     "text": [
      "(64, 28, 28, 1) (64, 28, 28, 1)\n",
      "Noise: (64, 100)\n",
      "(64, 28, 28, 1) (64, 28, 28, 1)\n",
      "Noise: (64, 100)\n",
      "(64, 28, 28, 1) (64, 28, 28, 1)\n",
      "Noise: (64, 100)\n"
     ]
    },
    {
     "name": "stderr",
     "output_type": "stream",
     "text": [
      "\r",
      " 32%|████████████▋                           | 297/937 [00:16<00:35, 18.19it/s]"
     ]
    },
    {
     "name": "stdout",
     "output_type": "stream",
     "text": [
      "(64, 28, 28, 1) (64, 28, 28, 1)\n",
      "Noise: (64, 100)\n",
      "(64, 28, 28, 1) (64, 28, 28, 1)\n",
      "Noise: (64, 100)\n",
      "(64, 28, 28, 1) (64, 28, 28, 1)\n",
      "Noise: (64, 100)\n"
     ]
    },
    {
     "name": "stderr",
     "output_type": "stream",
     "text": [
      "\r",
      " 32%|████████████▊                           | 300/937 [00:16<00:34, 18.23it/s]"
     ]
    },
    {
     "name": "stdout",
     "output_type": "stream",
     "text": [
      "(64, 28, 28, 1) (64, 28, 28, 1)\n",
      "Noise: (64, 100)\n",
      "(64, 28, 28, 1) (64, 28, 28, 1)\n",
      "Noise: (64, 100)\n",
      "(64, 28, 28, 1) (64, 28, 28, 1)\n",
      "Noise: (64, 100)\n"
     ]
    },
    {
     "name": "stderr",
     "output_type": "stream",
     "text": [
      "\r",
      " 32%|████████████▉                           | 303/937 [00:16<00:34, 18.27it/s]"
     ]
    },
    {
     "name": "stdout",
     "output_type": "stream",
     "text": [
      "(64, 28, 28, 1) (64, 28, 28, 1)\n",
      "Noise: (64, 100)\n",
      "(64, 28, 28, 1) (64, 28, 28, 1)\n",
      "Noise: (64, 100)\n",
      "(64, 28, 28, 1) (64, 28, 28, 1)\n",
      "Noise: (64, 100)\n"
     ]
    },
    {
     "name": "stderr",
     "output_type": "stream",
     "text": [
      "\r",
      " 33%|█████████████                           | 306/937 [00:16<00:34, 18.32it/s]"
     ]
    },
    {
     "name": "stdout",
     "output_type": "stream",
     "text": [
      "(64, 28, 28, 1) (64, 28, 28, 1)\n",
      "Noise: (64, 100)\n",
      "(64, 28, 28, 1) (64, 28, 28, 1)\n",
      "Noise: (64, 100)\n",
      "(64, 28, 28, 1) (64, 28, 28, 1)\n",
      "Noise: (64, 100)\n"
     ]
    },
    {
     "name": "stderr",
     "output_type": "stream",
     "text": [
      "\r",
      " 33%|█████████████▏                          | 309/937 [00:16<00:34, 18.35it/s]"
     ]
    },
    {
     "name": "stdout",
     "output_type": "stream",
     "text": [
      "(64, 28, 28, 1) (64, 28, 28, 1)\n",
      "Noise: (64, 100)\n",
      "(64, 28, 28, 1) (64, 28, 28, 1)\n",
      "Noise: (64, 100)\n",
      "(64, 28, 28, 1) (64, 28, 28, 1)\n",
      "Noise: (64, 100)\n"
     ]
    },
    {
     "name": "stderr",
     "output_type": "stream",
     "text": [
      "\r",
      " 33%|█████████████▎                          | 312/937 [00:16<00:33, 18.39it/s]"
     ]
    },
    {
     "name": "stdout",
     "output_type": "stream",
     "text": [
      "(64, 28, 28, 1) (64, 28, 28, 1)\n",
      "Noise: (64, 100)\n",
      "(64, 28, 28, 1) (64, 28, 28, 1)\n",
      "Noise: (64, 100)\n",
      "(64, 28, 28, 1) (64, 28, 28, 1)\n",
      "Noise: (64, 100)\n"
     ]
    },
    {
     "name": "stderr",
     "output_type": "stream",
     "text": [
      "\r",
      " 34%|█████████████▍                          | 315/937 [00:17<00:33, 18.43it/s]"
     ]
    },
    {
     "name": "stdout",
     "output_type": "stream",
     "text": [
      "(64, 28, 28, 1) (64, 28, 28, 1)\n",
      "Noise: (64, 100)\n",
      "(64, 28, 28, 1) (64, 28, 28, 1)\n",
      "Noise: (64, 100)\n",
      "(64, 28, 28, 1) (64, 28, 28, 1)\n",
      "Noise: (64, 100)\n"
     ]
    },
    {
     "name": "stderr",
     "output_type": "stream",
     "text": [
      "\r",
      " 34%|█████████████▌                          | 318/937 [00:17<00:33, 18.47it/s]"
     ]
    },
    {
     "name": "stdout",
     "output_type": "stream",
     "text": [
      "(64, 28, 28, 1) (64, 28, 28, 1)\n",
      "Noise: (64, 100)\n",
      "(64, 28, 28, 1) (64, 28, 28, 1)\n",
      "Noise: (64, 100)\n",
      "(64, 28, 28, 1) (64, 28, 28, 1)\n",
      "Noise: (64, 100)\n"
     ]
    },
    {
     "name": "stderr",
     "output_type": "stream",
     "text": [
      "\r",
      " 34%|█████████████▋                          | 321/937 [00:17<00:33, 18.51it/s]"
     ]
    },
    {
     "name": "stdout",
     "output_type": "stream",
     "text": [
      "(64, 28, 28, 1) (64, 28, 28, 1)\n",
      "Noise: (64, 100)\n",
      "(64, 28, 28, 1) (64, 28, 28, 1)\n",
      "Noise: (64, 100)\n",
      "(64, 28, 28, 1) (64, 28, 28, 1)\n",
      "Noise: (64, 100)\n"
     ]
    },
    {
     "name": "stderr",
     "output_type": "stream",
     "text": [
      "\r",
      " 35%|█████████████▊                          | 324/937 [00:17<00:33, 18.55it/s]"
     ]
    },
    {
     "name": "stdout",
     "output_type": "stream",
     "text": [
      "(64, 28, 28, 1) (64, 28, 28, 1)\n",
      "Noise: (64, 100)\n",
      "(64, 28, 28, 1) (64, 28, 28, 1)\n",
      "Noise: (64, 100)\n",
      "(64, 28, 28, 1) (64, 28, 28, 1)\n",
      "Noise: (64, 100)\n"
     ]
    },
    {
     "name": "stderr",
     "output_type": "stream",
     "text": [
      "\r",
      " 35%|█████████████▉                          | 327/937 [00:17<00:32, 18.58it/s]"
     ]
    },
    {
     "name": "stdout",
     "output_type": "stream",
     "text": [
      "(64, 28, 28, 1) (64, 28, 28, 1)\n",
      "Noise: (64, 100)\n",
      "(64, 28, 28, 1) (64, 28, 28, 1)\n",
      "Noise: (64, 100)\n",
      "(64, 28, 28, 1) (64, 28, 28, 1)\n",
      "Noise: (64, 100)\n"
     ]
    },
    {
     "name": "stderr",
     "output_type": "stream",
     "text": [
      "\r",
      " 35%|██████████████                          | 330/937 [00:17<00:32, 18.62it/s]"
     ]
    },
    {
     "name": "stdout",
     "output_type": "stream",
     "text": [
      "(64, 28, 28, 1) (64, 28, 28, 1)\n",
      "Noise: (64, 100)\n",
      "(64, 28, 28, 1) (64, 28, 28, 1)\n",
      "Noise: (64, 100)\n",
      "(64, 28, 28, 1) (64, 28, 28, 1)\n",
      "Noise: (64, 100)\n"
     ]
    },
    {
     "name": "stderr",
     "output_type": "stream",
     "text": [
      "\r",
      " 36%|██████████████▏                         | 333/937 [00:17<00:32, 18.66it/s]"
     ]
    },
    {
     "name": "stdout",
     "output_type": "stream",
     "text": [
      "(64, 28, 28, 1) (64, 28, 28, 1)\n",
      "Noise: (64, 100)\n",
      "(64, 28, 28, 1) (64, 28, 28, 1)\n",
      "Noise: (64, 100)\n",
      "(64, 28, 28, 1) (64, 28, 28, 1)\n",
      "Noise: (64, 100)\n"
     ]
    },
    {
     "name": "stderr",
     "output_type": "stream",
     "text": [
      "\r",
      " 36%|██████████████▎                         | 336/937 [00:17<00:32, 18.70it/s]"
     ]
    },
    {
     "name": "stdout",
     "output_type": "stream",
     "text": [
      "(64, 28, 28, 1) (64, 28, 28, 1)\n",
      "Noise: (64, 100)\n",
      "(64, 28, 28, 1) (64, 28, 28, 1)\n",
      "Noise: (64, 100)\n",
      "(64, 28, 28, 1) (64, 28, 28, 1)\n",
      "Noise: (64, 100)\n"
     ]
    },
    {
     "name": "stderr",
     "output_type": "stream",
     "text": [
      "\r",
      " 36%|██████████████▍                         | 339/937 [00:18<00:31, 18.74it/s]"
     ]
    },
    {
     "name": "stdout",
     "output_type": "stream",
     "text": [
      "(64, 28, 28, 1) (64, 28, 28, 1)\n",
      "Noise: (64, 100)\n",
      "(64, 28, 28, 1) (64, 28, 28, 1)\n",
      "Noise: (64, 100)\n",
      "(64, 28, 28, 1) (64, 28, 28, 1)\n",
      "Noise: (64, 100)\n"
     ]
    },
    {
     "name": "stderr",
     "output_type": "stream",
     "text": [
      "\r",
      " 36%|██████████████▌                         | 342/937 [00:18<00:31, 18.77it/s]"
     ]
    },
    {
     "name": "stdout",
     "output_type": "stream",
     "text": [
      "(64, 28, 28, 1) (64, 28, 28, 1)\n",
      "Noise: (64, 100)\n",
      "(64, 28, 28, 1) (64, 28, 28, 1)\n",
      "Noise: (64, 100)\n",
      "(64, 28, 28, 1) (64, 28, 28, 1)\n",
      "Noise: (64, 100)\n"
     ]
    },
    {
     "name": "stderr",
     "output_type": "stream",
     "text": [
      "\r",
      " 37%|██████████████▋                         | 345/937 [00:18<00:31, 18.81it/s]"
     ]
    },
    {
     "name": "stdout",
     "output_type": "stream",
     "text": [
      "(64, 28, 28, 1) (64, 28, 28, 1)\n",
      "Noise: (64, 100)\n",
      "(64, 28, 28, 1) (64, 28, 28, 1)\n",
      "Noise: (64, 100)\n",
      "(64, 28, 28, 1) (64, 28, 28, 1)\n",
      "Noise: (64, 100)\n"
     ]
    },
    {
     "name": "stderr",
     "output_type": "stream",
     "text": [
      "\r",
      " 37%|██████████████▊                         | 348/937 [00:18<00:31, 18.85it/s]"
     ]
    },
    {
     "name": "stdout",
     "output_type": "stream",
     "text": [
      "(64, 28, 28, 1) (64, 28, 28, 1)\n",
      "Noise: (64, 100)\n",
      "(64, 28, 28, 1) (64, 28, 28, 1)\n",
      "Noise: (64, 100)\n",
      "(64, 28, 28, 1) (64, 28, 28, 1)\n",
      "Noise: (64, 100)\n"
     ]
    },
    {
     "ename": "KeyboardInterrupt",
     "evalue": "",
     "output_type": "error",
     "traceback": [
      "\u001b[1;31m---------------------------------------------------------------------------\u001b[0m",
      "\u001b[1;31mKeyboardInterrupt\u001b[0m                         Traceback (most recent call last)",
      "\u001b[1;32m<ipython-input-28-9037f60ec9e6>\u001b[0m in \u001b[0;36m<module>\u001b[1;34m()\u001b[0m\n\u001b[1;32m----> 1\u001b[1;33m \u001b[0mtrain\u001b[0m\u001b[1;33m(\u001b[0m\u001b[1;36m30\u001b[0m\u001b[1;33m,\u001b[0m \u001b[1;36m64\u001b[0m\u001b[1;33m)\u001b[0m\u001b[1;33m\u001b[0m\u001b[0m\n\u001b[0m",
      "\u001b[1;32m<ipython-input-27-73b9d87ab3a3>\u001b[0m in \u001b[0;36mtrain\u001b[1;34m(epochs, batchSize)\u001b[0m\n\u001b[0;32m     32\u001b[0m             \u001b[0mdiscriminator\u001b[0m\u001b[1;33m.\u001b[0m\u001b[0mtrainable\u001b[0m \u001b[1;33m=\u001b[0m \u001b[1;32mTrue\u001b[0m\u001b[1;33m\u001b[0m\u001b[0m\n\u001b[0;32m     33\u001b[0m             \u001b[0mprint\u001b[0m\u001b[1;33m(\u001b[0m\u001b[1;34m'Noise:'\u001b[0m\u001b[1;33m,\u001b[0m \u001b[0mnoise\u001b[0m\u001b[1;33m.\u001b[0m\u001b[0mshape\u001b[0m\u001b[1;33m)\u001b[0m\u001b[1;33m\u001b[0m\u001b[0m\n\u001b[1;32m---> 34\u001b[1;33m             \u001b[0mgloss\u001b[0m \u001b[1;33m=\u001b[0m \u001b[0mgan\u001b[0m\u001b[1;33m.\u001b[0m\u001b[0mtrain_on_batch\u001b[0m\u001b[1;33m(\u001b[0m\u001b[0mnoise\u001b[0m\u001b[1;33m,\u001b[0m \u001b[0myGen\u001b[0m\u001b[1;33m)\u001b[0m\u001b[1;33m\u001b[0m\u001b[0m\n\u001b[0m\u001b[0;32m     35\u001b[0m \u001b[1;33m\u001b[0m\u001b[0m\n\u001b[0;32m     36\u001b[0m         \u001b[1;31m# Store loss of most recent batch from this epoch\u001b[0m\u001b[1;33m\u001b[0m\u001b[1;33m\u001b[0m\u001b[0m\n",
      "\u001b[1;32m~\\Miniconda3\\envs\\capsule-gans\\lib\\site-packages\\keras\\engine\\training.py\u001b[0m in \u001b[0;36mtrain_on_batch\u001b[1;34m(self, x, y, sample_weight, class_weight)\u001b[0m\n\u001b[0;32m   1837\u001b[0m             \u001b[0mins\u001b[0m \u001b[1;33m=\u001b[0m \u001b[0mx\u001b[0m \u001b[1;33m+\u001b[0m \u001b[0my\u001b[0m \u001b[1;33m+\u001b[0m \u001b[0msample_weights\u001b[0m\u001b[1;33m\u001b[0m\u001b[0m\n\u001b[0;32m   1838\u001b[0m         \u001b[0mself\u001b[0m\u001b[1;33m.\u001b[0m\u001b[0m_make_train_function\u001b[0m\u001b[1;33m(\u001b[0m\u001b[1;33m)\u001b[0m\u001b[1;33m\u001b[0m\u001b[0m\n\u001b[1;32m-> 1839\u001b[1;33m         \u001b[0moutputs\u001b[0m \u001b[1;33m=\u001b[0m \u001b[0mself\u001b[0m\u001b[1;33m.\u001b[0m\u001b[0mtrain_function\u001b[0m\u001b[1;33m(\u001b[0m\u001b[0mins\u001b[0m\u001b[1;33m)\u001b[0m\u001b[1;33m\u001b[0m\u001b[0m\n\u001b[0m\u001b[0;32m   1840\u001b[0m         \u001b[1;32mif\u001b[0m \u001b[0mlen\u001b[0m\u001b[1;33m(\u001b[0m\u001b[0moutputs\u001b[0m\u001b[1;33m)\u001b[0m \u001b[1;33m==\u001b[0m \u001b[1;36m1\u001b[0m\u001b[1;33m:\u001b[0m\u001b[1;33m\u001b[0m\u001b[0m\n\u001b[0;32m   1841\u001b[0m             \u001b[1;32mreturn\u001b[0m \u001b[0moutputs\u001b[0m\u001b[1;33m[\u001b[0m\u001b[1;36m0\u001b[0m\u001b[1;33m]\u001b[0m\u001b[1;33m\u001b[0m\u001b[0m\n",
      "\u001b[1;32m~\\Miniconda3\\envs\\capsule-gans\\lib\\site-packages\\keras\\backend\\tensorflow_backend.py\u001b[0m in \u001b[0;36m__call__\u001b[1;34m(self, inputs)\u001b[0m\n\u001b[0;32m   2355\u001b[0m         \u001b[0msession\u001b[0m \u001b[1;33m=\u001b[0m \u001b[0mget_session\u001b[0m\u001b[1;33m(\u001b[0m\u001b[1;33m)\u001b[0m\u001b[1;33m\u001b[0m\u001b[0m\n\u001b[0;32m   2356\u001b[0m         updated = session.run(fetches=fetches, feed_dict=feed_dict,\n\u001b[1;32m-> 2357\u001b[1;33m                               **self.session_kwargs)\n\u001b[0m\u001b[0;32m   2358\u001b[0m         \u001b[1;32mreturn\u001b[0m \u001b[0mupdated\u001b[0m\u001b[1;33m[\u001b[0m\u001b[1;33m:\u001b[0m\u001b[0mlen\u001b[0m\u001b[1;33m(\u001b[0m\u001b[0mself\u001b[0m\u001b[1;33m.\u001b[0m\u001b[0moutputs\u001b[0m\u001b[1;33m)\u001b[0m\u001b[1;33m]\u001b[0m\u001b[1;33m\u001b[0m\u001b[0m\n\u001b[0;32m   2359\u001b[0m \u001b[1;33m\u001b[0m\u001b[0m\n",
      "\u001b[1;32m~\\Miniconda3\\envs\\capsule-gans\\lib\\site-packages\\tensorflow\\python\\client\\session.py\u001b[0m in \u001b[0;36mrun\u001b[1;34m(self, fetches, feed_dict, options, run_metadata)\u001b[0m\n\u001b[0;32m    887\u001b[0m     \u001b[1;32mtry\u001b[0m\u001b[1;33m:\u001b[0m\u001b[1;33m\u001b[0m\u001b[0m\n\u001b[0;32m    888\u001b[0m       result = self._run(None, fetches, feed_dict, options_ptr,\n\u001b[1;32m--> 889\u001b[1;33m                          run_metadata_ptr)\n\u001b[0m\u001b[0;32m    890\u001b[0m       \u001b[1;32mif\u001b[0m \u001b[0mrun_metadata\u001b[0m\u001b[1;33m:\u001b[0m\u001b[1;33m\u001b[0m\u001b[0m\n\u001b[0;32m    891\u001b[0m         \u001b[0mproto_data\u001b[0m \u001b[1;33m=\u001b[0m \u001b[0mtf_session\u001b[0m\u001b[1;33m.\u001b[0m\u001b[0mTF_GetBuffer\u001b[0m\u001b[1;33m(\u001b[0m\u001b[0mrun_metadata_ptr\u001b[0m\u001b[1;33m)\u001b[0m\u001b[1;33m\u001b[0m\u001b[0m\n",
      "\u001b[1;32m~\\Miniconda3\\envs\\capsule-gans\\lib\\site-packages\\tensorflow\\python\\client\\session.py\u001b[0m in \u001b[0;36m_run\u001b[1;34m(self, handle, fetches, feed_dict, options, run_metadata)\u001b[0m\n\u001b[0;32m   1118\u001b[0m     \u001b[1;32mif\u001b[0m \u001b[0mfinal_fetches\u001b[0m \u001b[1;32mor\u001b[0m \u001b[0mfinal_targets\u001b[0m \u001b[1;32mor\u001b[0m \u001b[1;33m(\u001b[0m\u001b[0mhandle\u001b[0m \u001b[1;32mand\u001b[0m \u001b[0mfeed_dict_tensor\u001b[0m\u001b[1;33m)\u001b[0m\u001b[1;33m:\u001b[0m\u001b[1;33m\u001b[0m\u001b[0m\n\u001b[0;32m   1119\u001b[0m       results = self._do_run(handle, final_targets, final_fetches,\n\u001b[1;32m-> 1120\u001b[1;33m                              feed_dict_tensor, options, run_metadata)\n\u001b[0m\u001b[0;32m   1121\u001b[0m     \u001b[1;32melse\u001b[0m\u001b[1;33m:\u001b[0m\u001b[1;33m\u001b[0m\u001b[0m\n\u001b[0;32m   1122\u001b[0m       \u001b[0mresults\u001b[0m \u001b[1;33m=\u001b[0m \u001b[1;33m[\u001b[0m\u001b[1;33m]\u001b[0m\u001b[1;33m\u001b[0m\u001b[0m\n",
      "\u001b[1;32m~\\Miniconda3\\envs\\capsule-gans\\lib\\site-packages\\tensorflow\\python\\client\\session.py\u001b[0m in \u001b[0;36m_do_run\u001b[1;34m(self, handle, target_list, fetch_list, feed_dict, options, run_metadata)\u001b[0m\n\u001b[0;32m   1315\u001b[0m     \u001b[1;32mif\u001b[0m \u001b[0mhandle\u001b[0m \u001b[1;32mis\u001b[0m \u001b[1;32mNone\u001b[0m\u001b[1;33m:\u001b[0m\u001b[1;33m\u001b[0m\u001b[0m\n\u001b[0;32m   1316\u001b[0m       return self._do_call(_run_fn, self._session, feeds, fetches, targets,\n\u001b[1;32m-> 1317\u001b[1;33m                            options, run_metadata)\n\u001b[0m\u001b[0;32m   1318\u001b[0m     \u001b[1;32melse\u001b[0m\u001b[1;33m:\u001b[0m\u001b[1;33m\u001b[0m\u001b[0m\n\u001b[0;32m   1319\u001b[0m       \u001b[1;32mreturn\u001b[0m \u001b[0mself\u001b[0m\u001b[1;33m.\u001b[0m\u001b[0m_do_call\u001b[0m\u001b[1;33m(\u001b[0m\u001b[0m_prun_fn\u001b[0m\u001b[1;33m,\u001b[0m \u001b[0mself\u001b[0m\u001b[1;33m.\u001b[0m\u001b[0m_session\u001b[0m\u001b[1;33m,\u001b[0m \u001b[0mhandle\u001b[0m\u001b[1;33m,\u001b[0m \u001b[0mfeeds\u001b[0m\u001b[1;33m,\u001b[0m \u001b[0mfetches\u001b[0m\u001b[1;33m)\u001b[0m\u001b[1;33m\u001b[0m\u001b[0m\n",
      "\u001b[1;32m~\\Miniconda3\\envs\\capsule-gans\\lib\\site-packages\\tensorflow\\python\\client\\session.py\u001b[0m in \u001b[0;36m_do_call\u001b[1;34m(self, fn, *args)\u001b[0m\n\u001b[0;32m   1321\u001b[0m   \u001b[1;32mdef\u001b[0m \u001b[0m_do_call\u001b[0m\u001b[1;33m(\u001b[0m\u001b[0mself\u001b[0m\u001b[1;33m,\u001b[0m \u001b[0mfn\u001b[0m\u001b[1;33m,\u001b[0m \u001b[1;33m*\u001b[0m\u001b[0margs\u001b[0m\u001b[1;33m)\u001b[0m\u001b[1;33m:\u001b[0m\u001b[1;33m\u001b[0m\u001b[0m\n\u001b[0;32m   1322\u001b[0m     \u001b[1;32mtry\u001b[0m\u001b[1;33m:\u001b[0m\u001b[1;33m\u001b[0m\u001b[0m\n\u001b[1;32m-> 1323\u001b[1;33m       \u001b[1;32mreturn\u001b[0m \u001b[0mfn\u001b[0m\u001b[1;33m(\u001b[0m\u001b[1;33m*\u001b[0m\u001b[0margs\u001b[0m\u001b[1;33m)\u001b[0m\u001b[1;33m\u001b[0m\u001b[0m\n\u001b[0m\u001b[0;32m   1324\u001b[0m     \u001b[1;32mexcept\u001b[0m \u001b[0merrors\u001b[0m\u001b[1;33m.\u001b[0m\u001b[0mOpError\u001b[0m \u001b[1;32mas\u001b[0m \u001b[0me\u001b[0m\u001b[1;33m:\u001b[0m\u001b[1;33m\u001b[0m\u001b[0m\n\u001b[0;32m   1325\u001b[0m       \u001b[0mmessage\u001b[0m \u001b[1;33m=\u001b[0m \u001b[0mcompat\u001b[0m\u001b[1;33m.\u001b[0m\u001b[0mas_text\u001b[0m\u001b[1;33m(\u001b[0m\u001b[0me\u001b[0m\u001b[1;33m.\u001b[0m\u001b[0mmessage\u001b[0m\u001b[1;33m)\u001b[0m\u001b[1;33m\u001b[0m\u001b[0m\n",
      "\u001b[1;32m~\\Miniconda3\\envs\\capsule-gans\\lib\\site-packages\\tensorflow\\python\\client\\session.py\u001b[0m in \u001b[0;36m_run_fn\u001b[1;34m(session, feed_dict, fetch_list, target_list, options, run_metadata)\u001b[0m\n\u001b[0;32m   1300\u001b[0m           return tf_session.TF_Run(session, options,\n\u001b[0;32m   1301\u001b[0m                                    \u001b[0mfeed_dict\u001b[0m\u001b[1;33m,\u001b[0m \u001b[0mfetch_list\u001b[0m\u001b[1;33m,\u001b[0m \u001b[0mtarget_list\u001b[0m\u001b[1;33m,\u001b[0m\u001b[1;33m\u001b[0m\u001b[0m\n\u001b[1;32m-> 1302\u001b[1;33m                                    status, run_metadata)\n\u001b[0m\u001b[0;32m   1303\u001b[0m \u001b[1;33m\u001b[0m\u001b[0m\n\u001b[0;32m   1304\u001b[0m     \u001b[1;32mdef\u001b[0m \u001b[0m_prun_fn\u001b[0m\u001b[1;33m(\u001b[0m\u001b[0msession\u001b[0m\u001b[1;33m,\u001b[0m \u001b[0mhandle\u001b[0m\u001b[1;33m,\u001b[0m \u001b[0mfeed_dict\u001b[0m\u001b[1;33m,\u001b[0m \u001b[0mfetch_list\u001b[0m\u001b[1;33m)\u001b[0m\u001b[1;33m:\u001b[0m\u001b[1;33m\u001b[0m\u001b[0m\n",
      "\u001b[1;31mKeyboardInterrupt\u001b[0m: "
     ]
    },
    {
     "name": "stderr",
     "output_type": "stream",
     "text": [
      "\r",
      " 37%|██████████████▊                         | 348/937 [00:30<00:50, 11.60it/s]"
     ]
    }
   ],
   "source": [
    "train(30, 64)"
   ]
  },
  {
   "cell_type": "code",
   "execution_count": null,
   "metadata": {},
   "outputs": [],
   "source": []
  }
 ],
 "metadata": {
  "kernelspec": {
   "display_name": "Python 3",
   "language": "python",
   "name": "python3"
  },
  "language_info": {
   "codemirror_mode": {
    "name": "ipython",
    "version": 3
   },
   "file_extension": ".py",
   "mimetype": "text/x-python",
   "name": "python",
   "nbconvert_exporter": "python",
   "pygments_lexer": "ipython3",
   "version": "3.5.0"
  },
  "widgets": {
   "state": {},
   "version": "1.1.2"
  }
 },
 "nbformat": 4,
 "nbformat_minor": 2
}

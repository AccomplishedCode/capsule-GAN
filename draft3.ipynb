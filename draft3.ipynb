{
 "cells": [
  {
   "cell_type": "code",
   "execution_count": 1,
   "metadata": {},
   "outputs": [
    {
     "name": "stderr",
     "output_type": "stream",
     "text": [
      "C:\\Users\\husey_000\\Miniconda3\\envs\\capsule-gans\\lib\\site-packages\\h5py\\__init__.py:36: FutureWarning: Conversion of the second argument of issubdtype from `float` to `np.floating` is deprecated. In future, it will be treated as `np.float64 == np.dtype(float).type`.\n",
      "  from ._conv import register_converters as _register_converters\n"
     ]
    }
   ],
   "source": [
    "import numpy as np\n",
    "import tensorflow as tf\n",
    "import pandas as pd\n",
    "import matplotlib.pyplot as plt\n",
    "import datetime\n",
    "from tensorflow.examples.tutorials.mnist import input_data"
   ]
  },
  {
   "cell_type": "code",
   "execution_count": 2,
   "metadata": {},
   "outputs": [
    {
     "name": "stdout",
     "output_type": "stream",
     "text": [
      "Extracting MNIST_data/train-images-idx3-ubyte.gz\n",
      "Extracting MNIST_data/train-labels-idx1-ubyte.gz\n",
      "Extracting MNIST_data/t10k-images-idx3-ubyte.gz\n",
      "Extracting MNIST_data/t10k-labels-idx1-ubyte.gz\n"
     ]
    }
   ],
   "source": [
    "#Load the MNIST dataset\n",
    "mnist = input_data.read_data_sets('MNIST_data/')"
   ]
  },
  {
   "cell_type": "code",
   "execution_count": 3,
   "metadata": {},
   "outputs": [],
   "source": [
    "class CapsConv(object):\n",
    "    ''' Capsule layer.\n",
    "    Args:\n",
    "        input: A 4-D tensor.\n",
    "        num_units: integer, the length of the output vector of a capsule.\n",
    "        with_routing: boolean, this capsule is routing with the\n",
    "                      lower-level layer capsule.\n",
    "        num_outputs: the number of capsule in this layer.\n",
    "    Returns:\n",
    "        A 4-D tensor.\n",
    "    '''\n",
    "    def __init__(self, num_units, with_routing=True):\n",
    "        self.num_units = num_units\n",
    "        self.with_routing = with_routing\n",
    "    def __call__(self, input, num_outputs, kernel_size=None, stride=None):\n",
    "        self.num_outputs = num_outputs\n",
    "        self.kernel_size = kernel_size\n",
    "        self.stride = stride\n",
    "        if not self.with_routing:\n",
    "            #assert input.get_shape() == [None, 28,28,256]\n",
    "\n",
    "            capsules = tf.contrib.layers.conv2d(input, self.num_outputs,\n",
    "                                                self.kernel_size, self.stride, padding=\"VALID\",\n",
    "                                                activation_fn=tf.nn.relu)\n",
    "            capsules = tf.reshape(capsules, (10, -1, self.num_units, 1))\n",
    "\n",
    "            # [batch_size, 1152, 8, 1]\n",
    "            capsules = squash(capsules)\n",
    "            assert capsules.get_shape() == [10, 1152, 8, 1]\n",
    "            return(capsules)\n",
    "            \n",
    "        else:\n",
    "            # the DigitCap layer\n",
    "            # reshape the input into shape [128,1152,8,1]\n",
    "            input = tf.reshape(input, shape=(10, 1152, 8,1))\n",
    "            \n",
    "            #b_IJ : [1, num_caps_1, num_caps_1_plus_1, 1]\n",
    "            b_IJ = tf.zeros(shape=[1,1152,10,1], dtype=np.float32)\n",
    "            capsules = []\n",
    "            for j in range(self.num_outputs):\n",
    "                with tf.variable_scope('caps_' + str(j)):\n",
    "                    caps_j, b_IJ = capsule(input, b_IJ, j)\n",
    "                    capsules.append(caps_j)\n",
    "            \n",
    "            #return a tensor with shape [batch_size,10,16,1]\n",
    "            capsules = tf.concat(capsules, axis=1)\n",
    "            assert capsules.get_shape() == [10,10,16,1]\n",
    "        \n",
    "        return(capsules)"
   ]
  },
  {
   "cell_type": "code",
   "execution_count": 4,
   "metadata": {},
   "outputs": [],
   "source": [
    "def capsule(input, b_IJ, idx_j):\n",
    "    ''' The routing algorithm for one capsule in the layer l+1.\n",
    "    Args:\n",
    "        input: A Tensor with [batch_size, num_caps_l=1152, length(u_i)=8, 1]\n",
    "               shape, num_caps_l meaning the number of capsule in the layer l.\n",
    "    Returns:\n",
    "        A Tensor of shape [batch_size, 1, length(v_j)=16, 1] representing the\n",
    "        vector output `v_j` of capsule j in the layer l+1\n",
    "    Notes:\n",
    "        u_i represents the vector output of capsule i in the layer l, and\n",
    "        v_j the vector output of capsule j in the layer l+1.\n",
    "     '''\n",
    "    with tf.variable_scope('routing'):\n",
    "\n",
    "        w_initializer = np.random.normal(size=[1, 1152, 8, 16], scale=0.01)\n",
    "\n",
    "        W_Ij = tf.Variable(w_initializer, dtype=tf.float32)\n",
    "        sess.run(tf.global_variables_initializer())\n",
    "        # repeat W_Ij with batch_size times to shape [batch_size, 1152, 8, 16]\n",
    "        W_Ij = tf.tile(W_Ij, [10, 1, 1, 1])\n",
    "\n",
    "        # calc u_hat\n",
    "        # [8, 16].T x [8, 1] => [16, 1] => [batch_size, 1152, 16, 1]\n",
    "        u_hat = tf.matmul(W_Ij, input, transpose_a=True)\n",
    "        assert u_hat.get_shape() == [10, 1152, 16, 1]\n",
    "\n",
    "        shape = b_IJ.get_shape().as_list()\n",
    "        size_splits = [idx_j, 1, shape[2] - idx_j - 1]\n",
    "        for r_iter in range(3):\n",
    "            # line 4:\n",
    "            # [1, 1152, 10, 1]\n",
    "            c_IJ = tf.nn.softmax(b_IJ, dim=2)\n",
    "            assert c_IJ.get_shape() == [1, 1152, 10, 1]\n",
    "\n",
    "            # line 5:\n",
    "            # weighting u_hat with c_I in the third dim,\n",
    "            # then sum in the second dim, resulting in [batch_size, 1, 16, 1]\n",
    "            b_Il, b_Ij, b_Ir = tf.split(b_IJ, size_splits, axis=2)\n",
    "            c_Il, c_Ij, b_Ir = tf.split(c_IJ, size_splits, axis=2)\n",
    "            assert c_Ij.get_shape() == [1, 1152, 1, 1]\n",
    "\n",
    "            s_j = tf.multiply(c_Ij, u_hat)\n",
    "            s_j = tf.reduce_sum(tf.multiply(c_Ij, u_hat),\n",
    "                                axis=1, keep_dims=True)\n",
    "            assert s_j.get_shape() == [10, 1, 16, 1]\n",
    "\n",
    "            # line 6:\n",
    "            # squash using Eq.1, resulting in [batch_size, 1, 16, 1]\n",
    "            v_j = squash(s_j)\n",
    "            assert s_j.get_shape() == [10, 1, 16, 1]\n",
    "\n",
    "            # line 7:\n",
    "            # tile v_j from [batch_size ,1, 16, 1] to [batch_size, 1152, 16, 1]\n",
    "            # [16, 1].T x [16, 1] => [1, 1], then reduce mean in the\n",
    "            # batch_size dim, resulting in [1, 1152, 1, 1]\n",
    "            v_j_tiled = tf.tile(v_j, [1, 1152, 1, 1])\n",
    "            u_produce_v = tf.matmul(u_hat, v_j_tiled, transpose_a=True)\n",
    "            assert u_produce_v.get_shape() == [10, 1152, 1, 1]\n",
    "            b_Ij += tf.reduce_sum(u_produce_v, axis=0, keep_dims=True)\n",
    "            b_IJ = tf.concat([b_Il, b_Ij, b_Ir], axis=2)\n",
    "\n",
    "        return(v_j, b_IJ)"
   ]
  },
  {
   "cell_type": "code",
   "execution_count": 5,
   "metadata": {},
   "outputs": [],
   "source": [
    "def squash(vector):\n",
    "    '''Squashing function.\n",
    "    Args:\n",
    "        vector: A 4-D tensor with shape [batch_size, num_caps, vec_len, 1],\n",
    "    Returns:\n",
    "        A 4-D tensor with the same shape as vector but\n",
    "        squashed in 3rd and 4th dimensions.\n",
    "    '''\n",
    "    vec_abs = tf.sqrt(tf.reduce_sum(tf.square(vector)))  # a scalar\n",
    "    scalar_factor = tf.square(vec_abs) / (1 + tf.square(vec_abs))\n",
    "    vec_squashed = scalar_factor * tf.divide(vector, vec_abs)  # element-wise\n",
    "    return(vec_squashed)"
   ]
  },
  {
   "cell_type": "code",
   "execution_count": 6,
   "metadata": {},
   "outputs": [],
   "source": [
    "def discriminator(x_image, reuse=False):\n",
    "    x_image.get_shape()\n",
    "    if (reuse):\n",
    "        tf.get_variable_scope().reuse_variables()\n",
    "        \n",
    "    #Carefully check the code below\n",
    "    # First convolutional and pool layers\n",
    "    # These search for 256 different 5 x 5 pixel features\n",
    "    #We’ll start off by passing the image through a convolutional layer. \n",
    "    #First, we create our weight and bias variables through tf.get_variable. \n",
    "    #Our first weight matrix (or filter) will be of size 5x5 and will have a output depth of 256. \n",
    "    #It will be randomly initialized from a normal distribution.\n",
    "    d_w1 = tf.get_variable('d_w1', [9, 9, 1, 256], initializer=tf.truncated_normal_initializer(stddev=0.02))\n",
    "    #tf.constant_init generates tensors with constant values.\n",
    "    d_b1 = tf.get_variable('d_b1', [256], initializer=tf.constant_initializer(0))\n",
    "    \n",
    "    #tf.nn.conv2d() is the Tensorflow’s function for a common convolution.\n",
    "    #It takes in 4 arguments. The first is the input volume (our 28 x 28 x 1 image in this case). \n",
    "    #The next argument is the filter/weight matrix. Finally, you can also change the stride and \n",
    "    #padding of the convolution. Those two values affect the dimensions of the output volume.\n",
    "    #\"SAME\" tries to pad evenly left and right, but if the amount of columns to be added is odd, \n",
    "    #it will add the extra column to the right,\n",
    "    #strides = [batch, height, width, channels]\n",
    "    d1 = tf.nn.conv2d(input=x_image, filter=d_w1, strides=[1, 1, 1, 1], padding='VALID')\n",
    "    #d1 = tf.contrib.layers.conv2d(inputs=x_image, num_outputs=256,weights_initializer = d_w1,\n",
    "    #                                        kernel_size=8, stride=1,padding='SAME')\n",
    "    #add the bias\n",
    "    d1 = d1 + d_b1\n",
    "    \n",
    "    #here comes the capsNet\n",
    "    with tf.variable_scope('PrimaryCaps_layer'):\n",
    "        primaryCaps = CapsConv(num_units=8, with_routing=False)\n",
    "        caps1 = primaryCaps(d1, num_outputs=256, kernel_size=9, stride=2)\n",
    "        #assert caps1.get_shape() == [128, 1152, 8, 1]\n",
    "\n",
    "    # DigitCaps layer, [batch_size, 10, 16, 1]\n",
    "    with tf.variable_scope('DigitCaps_layer'):\n",
    "        digitCaps = CapsConv(num_units=16, with_routing=True)\n",
    "        caps2 = digitCaps(caps1, num_outputs=10)\n",
    "    \n",
    "    #and then followed by a series of fully connected layers. \n",
    "    # First fully connected layer\n",
    "    d_w3 = tf.get_variable('d_w3', [16*10, 1024], initializer=tf.truncated_normal_initializer(stddev=0.02))\n",
    "    d_b3 = tf.get_variable('d_b3', [1024], initializer=tf.constant_initializer(0))\n",
    "    d3 = tf.reshape(caps2, [-1, 16*10])\n",
    "    d3 = tf.matmul(d3, d_w3)\n",
    "    d3 = d3 + d_b3\n",
    "    d3 = tf.nn.relu(d3)\n",
    "\n",
    "    #The last fully-connected layer holds the output, such as the class scores.\n",
    "    # Second fully connected layer\n",
    "    d_w4 = tf.get_variable('d_w4', [1024, 1], initializer=tf.truncated_normal_initializer(stddev=0.02))\n",
    "    d_b4 = tf.get_variable('d_b4', [1], initializer=tf.constant_initializer(0))\n",
    "\n",
    "    #At the end of the network, we do a final matrix multiply and \n",
    "    #return the activation value. \n",
    "    #For those of you comfortable with CNNs, this is just a simple binary classifier. Nothing fancy.\n",
    "    # Final layer\n",
    "    d4 = tf.matmul(d3, d_w4) + d_b4\n",
    "    # d4 dimensions: batch_size x 1\n",
    "\n",
    "    return d4"
   ]
  },
  {
   "cell_type": "code",
   "execution_count": 7,
   "metadata": {},
   "outputs": [],
   "source": [
    "def generator(batch_size, z_dim): \n",
    "    z = tf.truncated_normal([batch_size, z_dim], mean=0, stddev=1, name='z')\n",
    "    #first deconv block\n",
    "    g_w1 = tf.get_variable('g_w1', [z_dim, 3136], dtype=tf.float32, initializer=tf.truncated_normal_initializer(stddev=0.02))\n",
    "    g_b1 = tf.get_variable('g_b1', [3136], initializer=tf.truncated_normal_initializer(stddev=0.02))\n",
    "    g1 = tf.matmul(z, g_w1) + g_b1\n",
    "    g1 = tf.reshape(g1, [-1, 56, 56, 1])\n",
    "    g1 = tf.contrib.layers.batch_norm(g1, epsilon=1e-5, scope='bn1')\n",
    "    g1 = tf.nn.relu(g1)\n",
    "\n",
    "    # Generate 50 features\n",
    "    g_w2 = tf.get_variable('g_w2', [3, 3, 1, z_dim/2], dtype=tf.float32, initializer=tf.truncated_normal_initializer(stddev=0.02))\n",
    "    g_b2 = tf.get_variable('g_b2', [z_dim/2], initializer=tf.truncated_normal_initializer(stddev=0.02))\n",
    "    g2 = tf.nn.conv2d(g1, g_w2, strides=[1, 2, 2, 1], padding='SAME')\n",
    "    g2 = g2 + g_b2\n",
    "    g2 = tf.contrib.layers.batch_norm(g2, epsilon=1e-5, scope='bn2')\n",
    "    g2 = tf.nn.relu(g2)\n",
    "    g2 = tf.image.resize_images(g2, [56, 56])\n",
    "\n",
    "    # Generate 25 features\n",
    "    g_w3 = tf.get_variable('g_w3', [3, 3, z_dim/2, z_dim/4], dtype=tf.float32, initializer=tf.truncated_normal_initializer(stddev=0.02))\n",
    "    g_b3 = tf.get_variable('g_b3', [z_dim/4], initializer=tf.truncated_normal_initializer(stddev=0.02))\n",
    "    g3 = tf.nn.conv2d(g2, g_w3, strides=[1, 2, 2, 1], padding='SAME')\n",
    "    g3 = g3 + g_b3\n",
    "    g3 = tf.contrib.layers.batch_norm(g3, epsilon=1e-5, scope='bn3')\n",
    "    g3 = tf.nn.relu(g3)\n",
    "    g3 = tf.image.resize_images(g3, [56, 56])\n",
    "    \n",
    "    #CapsNet Implementation\n",
    "    #Masking is done by default\n",
    "    '''\n",
    "    #generate 50 features, requires a conv1, primary cap and digit cap\n",
    "    \n",
    "    #generate 25 feaures, requires a conv2, primary cap and a digit cap\n",
    "    \n",
    "    #masking true by default\n",
    "    self.masked_v = tf.multiply(tf.squeeze(self.caps2), tf.reshape(self.Y,(-1,10,1)))\n",
    "    self.v_length = tf.sqrt(tf.reduce_sum(tf.square(self.caps2), axis=2, keep_dims=True)+1e-9)\n",
    "        \n",
    "    '''\n",
    "\n",
    "    # Final convolution with one output channel\n",
    "    g_w4 = tf.get_variable('g_w4', [1, 1, z_dim/4, 1], dtype=tf.float32, initializer=tf.truncated_normal_initializer(stddev=0.02))\n",
    "    g_b4 = tf.get_variable('g_b4', [1], initializer=tf.truncated_normal_initializer(stddev=0.02))\n",
    "    g4 = tf.nn.conv2d(g3, g_w4, strides=[1, 2, 2, 1], padding='SAME')\n",
    "    g4 = g4 + g_b4\n",
    "    g4 = tf.sigmoid(g4)\n",
    "\n",
    "    # No batch normalization at the final layer, but we do add\n",
    "    # a sigmoid activator to make the generated images crisper.\n",
    "    # Dimensions of g4: batch_size x 28 x 28 x 1\n",
    "\n",
    "    return g4"
   ]
  },
  {
   "cell_type": "code",
   "execution_count": 8,
   "metadata": {},
   "outputs": [],
   "source": [
    "# To allocate GPU memory according to usage\n",
    "config = tf.ConfigProto()\n",
    "config.gpu_options.allow_growth = True\n",
    "sess = tf.Session(config=config)"
   ]
  },
  {
   "cell_type": "code",
   "execution_count": 9,
   "metadata": {},
   "outputs": [],
   "source": [
    "batch_size = 10\n",
    "z_dimensions = 100"
   ]
  },
  {
   "cell_type": "code",
   "execution_count": 10,
   "metadata": {},
   "outputs": [],
   "source": [
    "# x_placeholder is for the input image to the discriminator\n",
    "x_placeholder = tf.placeholder(\"float\", shape=[10, 28,28,1], name='x_placeholder')"
   ]
  },
  {
   "cell_type": "code",
   "execution_count": 11,
   "metadata": {},
   "outputs": [],
   "source": [
    "#generated images\n",
    "Gz = generator(batch_size, z_dimensions)"
   ]
  },
  {
   "cell_type": "code",
   "execution_count": 12,
   "metadata": {},
   "outputs": [],
   "source": [
    "#discriminators probability for real images\n",
    "Dx = discriminator(x_placeholder)"
   ]
  },
  {
   "cell_type": "code",
   "execution_count": 13,
   "metadata": {},
   "outputs": [],
   "source": [
    "with tf.variable_scope(tf.get_variable_scope()) as scope:\n",
    "    pass "
   ]
  },
  {
   "cell_type": "code",
   "execution_count": 14,
   "metadata": {},
   "outputs": [],
   "source": [
    "# discriminator probability for generated images\n",
    "Dg = discriminator(Gz, reuse=True)"
   ]
  },
  {
   "cell_type": "code",
   "execution_count": 15,
   "metadata": {},
   "outputs": [],
   "source": [
    "#gan loss function\n",
    "g_loss = tf.reduce_mean(tf.nn.sigmoid_cross_entropy_with_logits(logits=Dg, labels = tf.ones_like(Dg)))\n",
    "\n",
    "d_loss_real = tf.reduce_mean(tf.nn.sigmoid_cross_entropy_with_logits(logits=Dx, labels=tf.fill([batch_size, 1], 0.9)))\n",
    "d_loss_fake = tf.reduce_mean(tf.nn.sigmoid_cross_entropy_with_logits(logits=Dg, labels=tf.zeros_like(Dg)))\n",
    "d_loss = d_loss_real + d_loss_fake"
   ]
  },
  {
   "cell_type": "code",
   "execution_count": 16,
   "metadata": {},
   "outputs": [],
   "source": [
    "tvars = tf.trainable_variables()\n",
    "\n",
    "d_vars = [var for var in tvars if 'd_' in var.name]\n",
    "g_vars = [var for var in tvars if 'g_' in var.name]"
   ]
  },
  {
   "cell_type": "code",
   "execution_count": 17,
   "metadata": {},
   "outputs": [],
   "source": [
    "with tf.variable_scope(scope):    \n",
    "    d_trainer_fake = tf.train.AdamOptimizer(0.0001).minimize(d_loss_fake, var_list=d_vars) \n",
    "    d_trainer_real = tf.train.AdamOptimizer(0.0001).minimize(d_loss_real, var_list=d_vars) \n",
    "    g_trainer = tf.train.AdamOptimizer(0.0001).minimize(g_loss, var_list=g_vars)"
   ]
  },
  {
   "cell_type": "code",
   "execution_count": 18,
   "metadata": {},
   "outputs": [
    {
     "data": {
      "text/plain": [
       "<tf.Tensor 'Discriminator_loss_fake:0' shape=() dtype=string>"
      ]
     },
     "execution_count": 18,
     "metadata": {},
     "output_type": "execute_result"
    }
   ],
   "source": [
    "# Outputs a Summary protocol buffer containing a single scalar value.\n",
    "tf.summary.scalar('Generator_loss', g_loss)\n",
    "tf.summary.scalar('Discriminator_loss_real', d_loss_real)\n",
    "tf.summary.scalar('Discriminator_loss_fake', d_loss_fake)"
   ]
  },
  {
   "cell_type": "code",
   "execution_count": 19,
   "metadata": {},
   "outputs": [],
   "source": [
    "d_real_count_ph = tf.placeholder(tf.float32)\n",
    "d_fake_count_ph = tf.placeholder(tf.float32)\n",
    "g_count_ph = tf.placeholder(tf.float32)"
   ]
  },
  {
   "cell_type": "code",
   "execution_count": 20,
   "metadata": {},
   "outputs": [
    {
     "data": {
      "text/plain": [
       "<tf.Tensor 'g_count:0' shape=() dtype=string>"
      ]
     },
     "execution_count": 20,
     "metadata": {},
     "output_type": "execute_result"
    }
   ],
   "source": [
    "tf.summary.scalar('d_real_count', d_real_count_ph)\n",
    "tf.summary.scalar('d_fake_count', d_fake_count_ph)\n",
    "tf.summary.scalar('g_count', g_count_ph)"
   ]
  },
  {
   "cell_type": "code",
   "execution_count": 21,
   "metadata": {},
   "outputs": [],
   "source": [
    "# Sanity check to see how the discriminator evaluates\n",
    "# generated and real MNIST images\n",
    "d_on_generated = tf.reduce_mean(discriminator(generator(batch_size, z_dimensions)))\n",
    "d_on_real = tf.reduce_mean(discriminator(x_placeholder))"
   ]
  },
  {
   "cell_type": "code",
   "execution_count": 22,
   "metadata": {},
   "outputs": [
    {
     "data": {
      "text/plain": [
       "<tf.Tensor 'd_on_real_eval:0' shape=() dtype=string>"
      ]
     },
     "execution_count": 22,
     "metadata": {},
     "output_type": "execute_result"
    }
   ],
   "source": [
    "tf.summary.scalar('d_on_generated_eval', d_on_generated)\n",
    "tf.summary.scalar('d_on_real_eval', d_on_real)"
   ]
  },
  {
   "cell_type": "code",
   "execution_count": 23,
   "metadata": {},
   "outputs": [
    {
     "name": "stdout",
     "output_type": "stream",
     "text": [
      "tensorboard/gan/\n"
     ]
    }
   ],
   "source": [
    "images_for_tensorboard = generator(batch_size, z_dimensions)\n",
    "tf.summary.image('Generated_images', images_for_tensorboard, 10)\n",
    "merged = tf.summary.merge_all()\n",
    "logdir = \"tensorboard/gan/\"\n",
    "writer = tf.summary.FileWriter(logdir, sess.graph)\n",
    "print(logdir)"
   ]
  },
  {
   "cell_type": "code",
   "execution_count": 24,
   "metadata": {},
   "outputs": [],
   "source": [
    "sess.run(tf.global_variables_initializer())\n",
    "saver = tf.train.Saver()"
   ]
  },
  {
   "cell_type": "code",
   "execution_count": 25,
   "metadata": {},
   "outputs": [
    {
     "name": "stdout",
     "output_type": "stream",
     "text": [
      "TRAINING STEP 0 AT 2018-01-12 03:17:35.248076\n",
      "Discriminator classification [-1.1643089e-07]\n"
     ]
    },
    {
     "data": {
      "image/png": "[encoded data removed]",
      "text/plain": [
       "<matplotlib.figure.Figure at 0x8e118f8a90>"
      ]
     },
     "metadata": {},
     "output_type": "display_data"
    },
    {
     "name": "stdout",
     "output_type": "stream",
     "text": [
      "Discriminator classification [-1.14737205e-07]\n"
     ]
    },
    {
     "data": {
      "image/png": "[encoded data removed]",
      "text/plain": [
       "<matplotlib.figure.Figure at 0x8e51de75c0>"
      ]
     },
     "metadata": {},
     "output_type": "display_data"
    },
    {
     "name": "stdout",
     "output_type": "stream",
     "text": [
      "Discriminator classification [-1.1563583e-07]\n"
     ]
    },
    {
     "data": {
      "image/png": "[encoded data removed]",
      "text/plain": [
       "<matplotlib.figure.Figure at 0x8e51dd7828>"
      ]
     },
     "metadata": {},
     "output_type": "display_data"
    },
    {
     "name": "stdout",
     "output_type": "stream",
     "text": [
      "saved to models/pretrained_gan.ckpt-0\n",
      "TRAINING STEP 10 AT 2018-01-12 03:18:25.349912\n",
      "Discriminator classification [5.9130752e-08]\n"
     ]
    },
    {
     "data": {
      "image/png": "[encoded data removed]",
      "text/plain": [
       "<matplotlib.figure.Figure at 0x8e51e2a2b0>"
      ]
     },
     "metadata": {},
     "output_type": "display_data"
    },
    {
     "name": "stdout",
     "output_type": "stream",
     "text": [
      "Discriminator classification [6.4017236e-08]\n"
     ]
    },
    {
     "data": {
      "image/png": "[encoded data removed]",
      "text/plain": [
       "<matplotlib.figure.Figure at 0x8e5c19e748>"
      ]
     },
     "metadata": {},
     "output_type": "display_data"
    },
    {
     "name": "stdout",
     "output_type": "stream",
     "text": [
      "Discriminator classification [6.2312495e-08]\n"
     ]
    },
    {
     "data": {
      "image/png": "[encoded data removed]",
      "text/plain": [
       "<matplotlib.figure.Figure at 0x8e5c15fef0>"
      ]
     },
     "metadata": {},
     "output_type": "display_data"
    },
    {
     "ename": "ResourceExhaustedError",
     "evalue": "OOM when allocating tensor with shape[9,9,256,256]\n\t [[Node: PrimaryCaps_layer/Conv/weights/Initializer/random_uniform/RandomUniform = RandomUniform[T=DT_INT32, _class=[\"loc:@PrimaryCaps_layer/Conv/weights\"], dtype=DT_FLOAT, seed=0, seed2=0, _device=\"/job:localhost/replica:0/task:0/device:GPU:0\"](PrimaryCaps_layer/Conv/weights/Initializer/random_uniform/shape)]]\n\nCaused by op 'PrimaryCaps_layer/Conv/weights/Initializer/random_uniform/RandomUniform', defined at:\n  File \"C:\\Users\\husey_000\\Miniconda3\\envs\\capsule-gans\\lib\\runpy.py\", line 170, in _run_module_as_main\n    \"__main__\", mod_spec)\n  File \"C:\\Users\\husey_000\\Miniconda3\\envs\\capsule-gans\\lib\\runpy.py\", line 85, in _run_code\n    exec(code, run_globals)\n  File \"C:\\Users\\husey_000\\Miniconda3\\envs\\capsule-gans\\lib\\site-packages\\ipykernel_launcher.py\", line 16, in <module>\n    app.launch_new_instance()\n  File \"C:\\Users\\husey_000\\Miniconda3\\envs\\capsule-gans\\lib\\site-packages\\traitlets\\config\\application.py\", line 658, in launch_instance\n    app.start()\n  File \"C:\\Users\\husey_000\\Miniconda3\\envs\\capsule-gans\\lib\\site-packages\\ipykernel\\kernelapp.py\", line 478, in start\n    self.io_loop.start()\n  File \"C:\\Users\\husey_000\\Miniconda3\\envs\\capsule-gans\\lib\\site-packages\\zmq\\eventloop\\ioloop.py\", line 177, in start\n    super(ZMQIOLoop, self).start()\n  File \"C:\\Users\\husey_000\\Miniconda3\\envs\\capsule-gans\\lib\\site-packages\\tornado\\ioloop.py\", line 888, in start\n    handler_func(fd_obj, events)\n  File \"C:\\Users\\husey_000\\Miniconda3\\envs\\capsule-gans\\lib\\site-packages\\tornado\\stack_context.py\", line 277, in null_wrapper\n    return fn(*args, **kwargs)\n  File \"C:\\Users\\husey_000\\Miniconda3\\envs\\capsule-gans\\lib\\site-packages\\zmq\\eventloop\\zmqstream.py\", line 440, in _handle_events\n    self._handle_recv()\n  File \"C:\\Users\\husey_000\\Miniconda3\\envs\\capsule-gans\\lib\\site-packages\\zmq\\eventloop\\zmqstream.py\", line 472, in _handle_recv\n    self._run_callback(callback, msg)\n  File \"C:\\Users\\husey_000\\Miniconda3\\envs\\capsule-gans\\lib\\site-packages\\zmq\\eventloop\\zmqstream.py\", line 414, in _run_callback\n    callback(*args, **kwargs)\n  File \"C:\\Users\\husey_000\\Miniconda3\\envs\\capsule-gans\\lib\\site-packages\\tornado\\stack_context.py\", line 277, in null_wrapper\n    return fn(*args, **kwargs)\n  File \"C:\\Users\\husey_000\\Miniconda3\\envs\\capsule-gans\\lib\\site-packages\\ipykernel\\kernelbase.py\", line 281, in dispatcher\n    return self.dispatch_shell(stream, msg)\n  File \"C:\\Users\\husey_000\\Miniconda3\\envs\\capsule-gans\\lib\\site-packages\\ipykernel\\kernelbase.py\", line 232, in dispatch_shell\n    handler(stream, idents, msg)\n  File \"C:\\Users\\husey_000\\Miniconda3\\envs\\capsule-gans\\lib\\site-packages\\ipykernel\\kernelbase.py\", line 397, in execute_request\n    user_expressions, allow_stdin)\n  File \"C:\\Users\\husey_000\\Miniconda3\\envs\\capsule-gans\\lib\\site-packages\\ipykernel\\ipkernel.py\", line 208, in do_execute\n    res = shell.run_cell(code, store_history=store_history, silent=silent)\n  File \"C:\\Users\\husey_000\\Miniconda3\\envs\\capsule-gans\\lib\\site-packages\\ipykernel\\zmqshell.py\", line 533, in run_cell\n    return super(ZMQInteractiveShell, self).run_cell(*args, **kwargs)\n  File \"C:\\Users\\husey_000\\Miniconda3\\envs\\capsule-gans\\lib\\site-packages\\IPython\\core\\interactiveshell.py\", line 2728, in run_cell\n    interactivity=interactivity, compiler=compiler, result=result)\n  File \"C:\\Users\\husey_000\\Miniconda3\\envs\\capsule-gans\\lib\\site-packages\\IPython\\core\\interactiveshell.py\", line 2850, in run_ast_nodes\n    if self.run_code(code, result):\n  File \"C:\\Users\\husey_000\\Miniconda3\\envs\\capsule-gans\\lib\\site-packages\\IPython\\core\\interactiveshell.py\", line 2910, in run_code\n    exec(code_obj, self.user_global_ns, self.user_ns)\n  File \"<ipython-input-12-b11844a30a59>\", line 2, in <module>\n    Dx = discriminator(x_placeholder)\n  File \"<ipython-input-6-37b925c22443>\", line 33, in discriminator\n    caps1 = primaryCaps(d1, num_outputs=256, kernel_size=9, stride=2)\n  File \"<ipython-input-3-2346dd0eada9>\", line 24, in __call__\n    activation_fn=tf.nn.relu)\n  File \"C:\\Users\\husey_000\\Miniconda3\\envs\\capsule-gans\\lib\\site-packages\\tensorflow\\contrib\\framework\\python\\ops\\arg_scope.py\", line 181, in func_with_args\n    return func(*args, **current_args)\n  File \"C:\\Users\\husey_000\\Miniconda3\\envs\\capsule-gans\\lib\\site-packages\\tensorflow\\contrib\\layers\\python\\layers\\layers.py\", line 1033, in convolution\n    outputs = layer.apply(inputs)\n  File \"C:\\Users\\husey_000\\Miniconda3\\envs\\capsule-gans\\lib\\site-packages\\tensorflow\\python\\layers\\base.py\", line 671, in apply\n    return self.__call__(inputs, *args, **kwargs)\n  File \"C:\\Users\\husey_000\\Miniconda3\\envs\\capsule-gans\\lib\\site-packages\\tensorflow\\python\\layers\\base.py\", line 559, in __call__\n    self.build(input_shapes[0])\n  File \"C:\\Users\\husey_000\\Miniconda3\\envs\\capsule-gans\\lib\\site-packages\\tensorflow\\python\\layers\\convolutional.py\", line 143, in build\n    dtype=self.dtype)\n  File \"C:\\Users\\husey_000\\Miniconda3\\envs\\capsule-gans\\lib\\site-packages\\tensorflow\\python\\layers\\base.py\", line 458, in add_variable\n    trainable=trainable and self.trainable)\n  File \"C:\\Users\\husey_000\\Miniconda3\\envs\\capsule-gans\\lib\\site-packages\\tensorflow\\python\\ops\\variable_scope.py\", line 1203, in get_variable\n    constraint=constraint)\n  File \"C:\\Users\\husey_000\\Miniconda3\\envs\\capsule-gans\\lib\\site-packages\\tensorflow\\python\\ops\\variable_scope.py\", line 1092, in get_variable\n    constraint=constraint)\n  File \"C:\\Users\\husey_000\\Miniconda3\\envs\\capsule-gans\\lib\\site-packages\\tensorflow\\python\\ops\\variable_scope.py\", line 417, in get_variable\n    return custom_getter(**custom_getter_kwargs)\n  File \"C:\\Users\\husey_000\\Miniconda3\\envs\\capsule-gans\\lib\\site-packages\\tensorflow\\contrib\\layers\\python\\layers\\layers.py\", line 1539, in layer_variable_getter\n    return _model_variable_getter(getter, *args, **kwargs)\n  File \"C:\\Users\\husey_000\\Miniconda3\\envs\\capsule-gans\\lib\\site-packages\\tensorflow\\contrib\\layers\\python\\layers\\layers.py\", line 1531, in _model_variable_getter\n    custom_getter=getter, use_resource=use_resource)\n  File \"C:\\Users\\husey_000\\Miniconda3\\envs\\capsule-gans\\lib\\site-packages\\tensorflow\\contrib\\framework\\python\\ops\\arg_scope.py\", line 181, in func_with_args\n    return func(*args, **current_args)\n  File \"C:\\Users\\husey_000\\Miniconda3\\envs\\capsule-gans\\lib\\site-packages\\tensorflow\\contrib\\framework\\python\\ops\\variables.py\", line 262, in model_variable\n    use_resource=use_resource)\n  File \"C:\\Users\\husey_000\\Miniconda3\\envs\\capsule-gans\\lib\\site-packages\\tensorflow\\contrib\\framework\\python\\ops\\arg_scope.py\", line 181, in func_with_args\n    return func(*args, **current_args)\n  File \"C:\\Users\\husey_000\\Miniconda3\\envs\\capsule-gans\\lib\\site-packages\\tensorflow\\contrib\\framework\\python\\ops\\variables.py\", line 217, in variable\n    use_resource=use_resource)\n  File \"C:\\Users\\husey_000\\Miniconda3\\envs\\capsule-gans\\lib\\site-packages\\tensorflow\\python\\ops\\variable_scope.py\", line 394, in _true_getter\n    use_resource=use_resource, constraint=constraint)\n  File \"C:\\Users\\husey_000\\Miniconda3\\envs\\capsule-gans\\lib\\site-packages\\tensorflow\\python\\ops\\variable_scope.py\", line 805, in _get_single_variable\n    constraint=constraint)\n  File \"C:\\Users\\husey_000\\Miniconda3\\envs\\capsule-gans\\lib\\site-packages\\tensorflow\\python\\ops\\variables.py\", line 213, in __init__\n    constraint=constraint)\n  File \"C:\\Users\\husey_000\\Miniconda3\\envs\\capsule-gans\\lib\\site-packages\\tensorflow\\python\\ops\\variables.py\", line 303, in _init_from_args\n    initial_value(), name=\"initial_value\", dtype=dtype)\n  File \"C:\\Users\\husey_000\\Miniconda3\\envs\\capsule-gans\\lib\\site-packages\\tensorflow\\python\\ops\\variable_scope.py\", line 779, in <lambda>\n    shape.as_list(), dtype=dtype, partition_info=partition_info)\n  File \"C:\\Users\\husey_000\\Miniconda3\\envs\\capsule-gans\\lib\\site-packages\\tensorflow\\contrib\\layers\\python\\layers\\initializers.py\", line 144, in _initializer\n    dtype, seed=seed)\n  File \"C:\\Users\\husey_000\\Miniconda3\\envs\\capsule-gans\\lib\\site-packages\\tensorflow\\python\\ops\\random_ops.py\", line 240, in random_uniform\n    shape, dtype, seed=seed1, seed2=seed2)\n  File \"C:\\Users\\husey_000\\Miniconda3\\envs\\capsule-gans\\lib\\site-packages\\tensorflow\\python\\ops\\gen_random_ops.py\", line 472, in _random_uniform\n    name=name)\n  File \"C:\\Users\\husey_000\\Miniconda3\\envs\\capsule-gans\\lib\\site-packages\\tensorflow\\python\\framework\\op_def_library.py\", line 787, in _apply_op_helper\n    op_def=op_def)\n  File \"C:\\Users\\husey_000\\Miniconda3\\envs\\capsule-gans\\lib\\site-packages\\tensorflow\\python\\framework\\ops.py\", line 2956, in create_op\n    op_def=op_def)\n  File \"C:\\Users\\husey_000\\Miniconda3\\envs\\capsule-gans\\lib\\site-packages\\tensorflow\\python\\framework\\ops.py\", line 1470, in __init__\n    self._traceback = self._graph._extract_stack()  # pylint: disable=protected-access\n\nResourceExhaustedError (see above for traceback): OOM when allocating tensor with shape[9,9,256,256]\n\t [[Node: PrimaryCaps_layer/Conv/weights/Initializer/random_uniform/RandomUniform = RandomUniform[T=DT_INT32, _class=[\"loc:@PrimaryCaps_layer/Conv/weights\"], dtype=DT_FLOAT, seed=0, seed2=0, _device=\"/job:localhost/replica:0/task:0/device:GPU:0\"](PrimaryCaps_layer/Conv/weights/Initializer/random_uniform/shape)]]\n",
     "output_type": "error",
     "traceback": [
      "\u001b[1;31m---------------------------------------------------------------------------\u001b[0m",
      "\u001b[1;31mResourceExhaustedError\u001b[0m                    Traceback (most recent call last)",
      "\u001b[1;32m~\\Miniconda3\\envs\\capsule-gans\\lib\\site-packages\\tensorflow\\python\\client\\session.py\u001b[0m in \u001b[0;36m_do_call\u001b[1;34m(self, fn, *args)\u001b[0m\n\u001b[0;32m   1322\u001b[0m     \u001b[1;32mtry\u001b[0m\u001b[1;33m:\u001b[0m\u001b[1;33m\u001b[0m\u001b[0m\n\u001b[1;32m-> 1323\u001b[1;33m       \u001b[1;32mreturn\u001b[0m \u001b[0mfn\u001b[0m\u001b[1;33m(\u001b[0m\u001b[1;33m*\u001b[0m\u001b[0margs\u001b[0m\u001b[1;33m)\u001b[0m\u001b[1;33m\u001b[0m\u001b[0m\n\u001b[0m\u001b[0;32m   1324\u001b[0m     \u001b[1;32mexcept\u001b[0m \u001b[0merrors\u001b[0m\u001b[1;33m.\u001b[0m\u001b[0mOpError\u001b[0m \u001b[1;32mas\u001b[0m \u001b[0me\u001b[0m\u001b[1;33m:\u001b[0m\u001b[1;33m\u001b[0m\u001b[0m\n",
      "\u001b[1;32m~\\Miniconda3\\envs\\capsule-gans\\lib\\site-packages\\tensorflow\\python\\client\\session.py\u001b[0m in \u001b[0;36m_run_fn\u001b[1;34m(session, feed_dict, fetch_list, target_list, options, run_metadata)\u001b[0m\n\u001b[0;32m   1301\u001b[0m                                    \u001b[0mfeed_dict\u001b[0m\u001b[1;33m,\u001b[0m \u001b[0mfetch_list\u001b[0m\u001b[1;33m,\u001b[0m \u001b[0mtarget_list\u001b[0m\u001b[1;33m,\u001b[0m\u001b[1;33m\u001b[0m\u001b[0m\n\u001b[1;32m-> 1302\u001b[1;33m                                    status, run_metadata)\n\u001b[0m\u001b[0;32m   1303\u001b[0m \u001b[1;33m\u001b[0m\u001b[0m\n",
      "\u001b[1;32m~\\Miniconda3\\envs\\capsule-gans\\lib\\site-packages\\tensorflow\\python\\framework\\errors_impl.py\u001b[0m in \u001b[0;36m__exit__\u001b[1;34m(self, type_arg, value_arg, traceback_arg)\u001b[0m\n\u001b[0;32m    472\u001b[0m             \u001b[0mcompat\u001b[0m\u001b[1;33m.\u001b[0m\u001b[0mas_text\u001b[0m\u001b[1;33m(\u001b[0m\u001b[0mc_api\u001b[0m\u001b[1;33m.\u001b[0m\u001b[0mTF_Message\u001b[0m\u001b[1;33m(\u001b[0m\u001b[0mself\u001b[0m\u001b[1;33m.\u001b[0m\u001b[0mstatus\u001b[0m\u001b[1;33m.\u001b[0m\u001b[0mstatus\u001b[0m\u001b[1;33m)\u001b[0m\u001b[1;33m)\u001b[0m\u001b[1;33m,\u001b[0m\u001b[1;33m\u001b[0m\u001b[0m\n\u001b[1;32m--> 473\u001b[1;33m             c_api.TF_GetCode(self.status.status))\n\u001b[0m\u001b[0;32m    474\u001b[0m     \u001b[1;31m# Delete the underlying status object from memory otherwise it stays alive\u001b[0m\u001b[1;33m\u001b[0m\u001b[1;33m\u001b[0m\u001b[0m\n",
      "\u001b[1;31mResourceExhaustedError\u001b[0m: OOM when allocating tensor with shape[9,9,256,256]\n\t [[Node: PrimaryCaps_layer/Conv/weights/Initializer/random_uniform/RandomUniform = RandomUniform[T=DT_INT32, _class=[\"loc:@PrimaryCaps_layer/Conv/weights\"], dtype=DT_FLOAT, seed=0, seed2=0, _device=\"/job:localhost/replica:0/task:0/device:GPU:0\"](PrimaryCaps_layer/Conv/weights/Initializer/random_uniform/shape)]]",
      "\nDuring handling of the above exception, another exception occurred:\n",
      "\u001b[1;31mResourceExhaustedError\u001b[0m                    Traceback (most recent call last)",
      "\u001b[1;32m<ipython-input-25-1034e7494560>\u001b[0m in \u001b[0;36m<module>\u001b[1;34m()\u001b[0m\n\u001b[0;32m     46\u001b[0m         \u001b[1;31m# (These are also being sent to TensorBoard every 10 iterations)\u001b[0m\u001b[1;33m\u001b[0m\u001b[1;33m\u001b[0m\u001b[0m\n\u001b[0;32m     47\u001b[0m         \u001b[0mimages\u001b[0m \u001b[1;33m=\u001b[0m \u001b[0msess\u001b[0m\u001b[1;33m.\u001b[0m\u001b[0mrun\u001b[0m\u001b[1;33m(\u001b[0m\u001b[0mgenerator\u001b[0m\u001b[1;33m(\u001b[0m\u001b[1;36m10\u001b[0m\u001b[1;33m,\u001b[0m \u001b[0mz_dimensions\u001b[0m\u001b[1;33m)\u001b[0m\u001b[1;33m)\u001b[0m\u001b[1;33m\u001b[0m\u001b[0m\n\u001b[1;32m---> 48\u001b[1;33m         \u001b[0md_result\u001b[0m \u001b[1;33m=\u001b[0m \u001b[0msess\u001b[0m\u001b[1;33m.\u001b[0m\u001b[0mrun\u001b[0m\u001b[1;33m(\u001b[0m\u001b[0mdiscriminator\u001b[0m\u001b[1;33m(\u001b[0m\u001b[0mx_placeholder\u001b[0m\u001b[1;33m)\u001b[0m\u001b[1;33m,\u001b[0m \u001b[1;33m{\u001b[0m\u001b[0mx_placeholder\u001b[0m\u001b[1;33m:\u001b[0m \u001b[0mimages\u001b[0m\u001b[1;33m}\u001b[0m\u001b[1;33m)\u001b[0m\u001b[1;33m\u001b[0m\u001b[0m\n\u001b[0m\u001b[0;32m     49\u001b[0m         \u001b[0mprint\u001b[0m\u001b[1;33m(\u001b[0m\u001b[1;34m\"TRAINING STEP\"\u001b[0m\u001b[1;33m,\u001b[0m \u001b[0mi\u001b[0m\u001b[1;33m,\u001b[0m \u001b[1;34m\"AT\"\u001b[0m\u001b[1;33m,\u001b[0m \u001b[0mdatetime\u001b[0m\u001b[1;33m.\u001b[0m\u001b[0mdatetime\u001b[0m\u001b[1;33m.\u001b[0m\u001b[0mnow\u001b[0m\u001b[1;33m(\u001b[0m\u001b[1;33m)\u001b[0m\u001b[1;33m)\u001b[0m\u001b[1;33m\u001b[0m\u001b[0m\n\u001b[0;32m     50\u001b[0m         \u001b[1;32mfor\u001b[0m \u001b[0mj\u001b[0m \u001b[1;32min\u001b[0m \u001b[0mrange\u001b[0m\u001b[1;33m(\u001b[0m\u001b[1;36m3\u001b[0m\u001b[1;33m)\u001b[0m\u001b[1;33m:\u001b[0m\u001b[1;33m\u001b[0m\u001b[0m\n",
      "\u001b[1;32m<ipython-input-6-37b925c22443>\u001b[0m in \u001b[0;36mdiscriminator\u001b[1;34m(x_image, reuse)\u001b[0m\n\u001b[0;32m     37\u001b[0m     \u001b[1;32mwith\u001b[0m \u001b[0mtf\u001b[0m\u001b[1;33m.\u001b[0m\u001b[0mvariable_scope\u001b[0m\u001b[1;33m(\u001b[0m\u001b[1;34m'DigitCaps_layer'\u001b[0m\u001b[1;33m)\u001b[0m\u001b[1;33m:\u001b[0m\u001b[1;33m\u001b[0m\u001b[0m\n\u001b[0;32m     38\u001b[0m         \u001b[0mdigitCaps\u001b[0m \u001b[1;33m=\u001b[0m \u001b[0mCapsConv\u001b[0m\u001b[1;33m(\u001b[0m\u001b[0mnum_units\u001b[0m\u001b[1;33m=\u001b[0m\u001b[1;36m16\u001b[0m\u001b[1;33m,\u001b[0m \u001b[0mwith_routing\u001b[0m\u001b[1;33m=\u001b[0m\u001b[1;32mTrue\u001b[0m\u001b[1;33m)\u001b[0m\u001b[1;33m\u001b[0m\u001b[0m\n\u001b[1;32m---> 39\u001b[1;33m         \u001b[0mcaps2\u001b[0m \u001b[1;33m=\u001b[0m \u001b[0mdigitCaps\u001b[0m\u001b[1;33m(\u001b[0m\u001b[0mcaps1\u001b[0m\u001b[1;33m,\u001b[0m \u001b[0mnum_outputs\u001b[0m\u001b[1;33m=\u001b[0m\u001b[1;36m10\u001b[0m\u001b[1;33m)\u001b[0m\u001b[1;33m\u001b[0m\u001b[0m\n\u001b[0m\u001b[0;32m     40\u001b[0m \u001b[1;33m\u001b[0m\u001b[0m\n\u001b[0;32m     41\u001b[0m     \u001b[1;31m#and then followed by a series of fully connected layers.\u001b[0m\u001b[1;33m\u001b[0m\u001b[1;33m\u001b[0m\u001b[0m\n",
      "\u001b[1;32m<ipython-input-3-2346dd0eada9>\u001b[0m in \u001b[0;36m__call__\u001b[1;34m(self, input, num_outputs, kernel_size, stride)\u001b[0m\n\u001b[0;32m     40\u001b[0m             \u001b[1;32mfor\u001b[0m \u001b[0mj\u001b[0m \u001b[1;32min\u001b[0m \u001b[0mrange\u001b[0m\u001b[1;33m(\u001b[0m\u001b[0mself\u001b[0m\u001b[1;33m.\u001b[0m\u001b[0mnum_outputs\u001b[0m\u001b[1;33m)\u001b[0m\u001b[1;33m:\u001b[0m\u001b[1;33m\u001b[0m\u001b[0m\n\u001b[0;32m     41\u001b[0m                 \u001b[1;32mwith\u001b[0m \u001b[0mtf\u001b[0m\u001b[1;33m.\u001b[0m\u001b[0mvariable_scope\u001b[0m\u001b[1;33m(\u001b[0m\u001b[1;34m'caps_'\u001b[0m \u001b[1;33m+\u001b[0m \u001b[0mstr\u001b[0m\u001b[1;33m(\u001b[0m\u001b[0mj\u001b[0m\u001b[1;33m)\u001b[0m\u001b[1;33m)\u001b[0m\u001b[1;33m:\u001b[0m\u001b[1;33m\u001b[0m\u001b[0m\n\u001b[1;32m---> 42\u001b[1;33m                     \u001b[0mcaps_j\u001b[0m\u001b[1;33m,\u001b[0m \u001b[0mb_IJ\u001b[0m \u001b[1;33m=\u001b[0m \u001b[0mcapsule\u001b[0m\u001b[1;33m(\u001b[0m\u001b[0minput\u001b[0m\u001b[1;33m,\u001b[0m \u001b[0mb_IJ\u001b[0m\u001b[1;33m,\u001b[0m \u001b[0mj\u001b[0m\u001b[1;33m)\u001b[0m\u001b[1;33m\u001b[0m\u001b[0m\n\u001b[0m\u001b[0;32m     43\u001b[0m                     \u001b[0mcapsules\u001b[0m\u001b[1;33m.\u001b[0m\u001b[0mappend\u001b[0m\u001b[1;33m(\u001b[0m\u001b[0mcaps_j\u001b[0m\u001b[1;33m)\u001b[0m\u001b[1;33m\u001b[0m\u001b[0m\n\u001b[0;32m     44\u001b[0m \u001b[1;33m\u001b[0m\u001b[0m\n",
      "\u001b[1;32m<ipython-input-4-0600f606dde7>\u001b[0m in \u001b[0;36mcapsule\u001b[1;34m(input, b_IJ, idx_j)\u001b[0m\n\u001b[0;32m     16\u001b[0m \u001b[1;33m\u001b[0m\u001b[0m\n\u001b[0;32m     17\u001b[0m         \u001b[0mW_Ij\u001b[0m \u001b[1;33m=\u001b[0m \u001b[0mtf\u001b[0m\u001b[1;33m.\u001b[0m\u001b[0mVariable\u001b[0m\u001b[1;33m(\u001b[0m\u001b[0mw_initializer\u001b[0m\u001b[1;33m,\u001b[0m \u001b[0mdtype\u001b[0m\u001b[1;33m=\u001b[0m\u001b[0mtf\u001b[0m\u001b[1;33m.\u001b[0m\u001b[0mfloat32\u001b[0m\u001b[1;33m)\u001b[0m\u001b[1;33m\u001b[0m\u001b[0m\n\u001b[1;32m---> 18\u001b[1;33m         \u001b[0msess\u001b[0m\u001b[1;33m.\u001b[0m\u001b[0mrun\u001b[0m\u001b[1;33m(\u001b[0m\u001b[0mtf\u001b[0m\u001b[1;33m.\u001b[0m\u001b[0mglobal_variables_initializer\u001b[0m\u001b[1;33m(\u001b[0m\u001b[1;33m)\u001b[0m\u001b[1;33m)\u001b[0m\u001b[1;33m\u001b[0m\u001b[0m\n\u001b[0m\u001b[0;32m     19\u001b[0m         \u001b[1;31m# repeat W_Ij with batch_size times to shape [batch_size, 1152, 8, 16]\u001b[0m\u001b[1;33m\u001b[0m\u001b[1;33m\u001b[0m\u001b[0m\n\u001b[0;32m     20\u001b[0m         \u001b[0mW_Ij\u001b[0m \u001b[1;33m=\u001b[0m \u001b[0mtf\u001b[0m\u001b[1;33m.\u001b[0m\u001b[0mtile\u001b[0m\u001b[1;33m(\u001b[0m\u001b[0mW_Ij\u001b[0m\u001b[1;33m,\u001b[0m \u001b[1;33m[\u001b[0m\u001b[1;36m10\u001b[0m\u001b[1;33m,\u001b[0m \u001b[1;36m1\u001b[0m\u001b[1;33m,\u001b[0m \u001b[1;36m1\u001b[0m\u001b[1;33m,\u001b[0m \u001b[1;36m1\u001b[0m\u001b[1;33m]\u001b[0m\u001b[1;33m)\u001b[0m\u001b[1;33m\u001b[0m\u001b[0m\n",
      "\u001b[1;32m~\\Miniconda3\\envs\\capsule-gans\\lib\\site-packages\\tensorflow\\python\\client\\session.py\u001b[0m in \u001b[0;36mrun\u001b[1;34m(self, fetches, feed_dict, options, run_metadata)\u001b[0m\n\u001b[0;32m    887\u001b[0m     \u001b[1;32mtry\u001b[0m\u001b[1;33m:\u001b[0m\u001b[1;33m\u001b[0m\u001b[0m\n\u001b[0;32m    888\u001b[0m       result = self._run(None, fetches, feed_dict, options_ptr,\n\u001b[1;32m--> 889\u001b[1;33m                          run_metadata_ptr)\n\u001b[0m\u001b[0;32m    890\u001b[0m       \u001b[1;32mif\u001b[0m \u001b[0mrun_metadata\u001b[0m\u001b[1;33m:\u001b[0m\u001b[1;33m\u001b[0m\u001b[0m\n\u001b[0;32m    891\u001b[0m         \u001b[0mproto_data\u001b[0m \u001b[1;33m=\u001b[0m \u001b[0mtf_session\u001b[0m\u001b[1;33m.\u001b[0m\u001b[0mTF_GetBuffer\u001b[0m\u001b[1;33m(\u001b[0m\u001b[0mrun_metadata_ptr\u001b[0m\u001b[1;33m)\u001b[0m\u001b[1;33m\u001b[0m\u001b[0m\n",
      "\u001b[1;32m~\\Miniconda3\\envs\\capsule-gans\\lib\\site-packages\\tensorflow\\python\\client\\session.py\u001b[0m in \u001b[0;36m_run\u001b[1;34m(self, handle, fetches, feed_dict, options, run_metadata)\u001b[0m\n\u001b[0;32m   1118\u001b[0m     \u001b[1;32mif\u001b[0m \u001b[0mfinal_fetches\u001b[0m \u001b[1;32mor\u001b[0m \u001b[0mfinal_targets\u001b[0m \u001b[1;32mor\u001b[0m \u001b[1;33m(\u001b[0m\u001b[0mhandle\u001b[0m \u001b[1;32mand\u001b[0m \u001b[0mfeed_dict_tensor\u001b[0m\u001b[1;33m)\u001b[0m\u001b[1;33m:\u001b[0m\u001b[1;33m\u001b[0m\u001b[0m\n\u001b[0;32m   1119\u001b[0m       results = self._do_run(handle, final_targets, final_fetches,\n\u001b[1;32m-> 1120\u001b[1;33m                              feed_dict_tensor, options, run_metadata)\n\u001b[0m\u001b[0;32m   1121\u001b[0m     \u001b[1;32melse\u001b[0m\u001b[1;33m:\u001b[0m\u001b[1;33m\u001b[0m\u001b[0m\n\u001b[0;32m   1122\u001b[0m       \u001b[0mresults\u001b[0m \u001b[1;33m=\u001b[0m \u001b[1;33m[\u001b[0m\u001b[1;33m]\u001b[0m\u001b[1;33m\u001b[0m\u001b[0m\n",
      "\u001b[1;32m~\\Miniconda3\\envs\\capsule-gans\\lib\\site-packages\\tensorflow\\python\\client\\session.py\u001b[0m in \u001b[0;36m_do_run\u001b[1;34m(self, handle, target_list, fetch_list, feed_dict, options, run_metadata)\u001b[0m\n\u001b[0;32m   1315\u001b[0m     \u001b[1;32mif\u001b[0m \u001b[0mhandle\u001b[0m \u001b[1;32mis\u001b[0m \u001b[1;32mNone\u001b[0m\u001b[1;33m:\u001b[0m\u001b[1;33m\u001b[0m\u001b[0m\n\u001b[0;32m   1316\u001b[0m       return self._do_call(_run_fn, self._session, feeds, fetches, targets,\n\u001b[1;32m-> 1317\u001b[1;33m                            options, run_metadata)\n\u001b[0m\u001b[0;32m   1318\u001b[0m     \u001b[1;32melse\u001b[0m\u001b[1;33m:\u001b[0m\u001b[1;33m\u001b[0m\u001b[0m\n\u001b[0;32m   1319\u001b[0m       \u001b[1;32mreturn\u001b[0m \u001b[0mself\u001b[0m\u001b[1;33m.\u001b[0m\u001b[0m_do_call\u001b[0m\u001b[1;33m(\u001b[0m\u001b[0m_prun_fn\u001b[0m\u001b[1;33m,\u001b[0m \u001b[0mself\u001b[0m\u001b[1;33m.\u001b[0m\u001b[0m_session\u001b[0m\u001b[1;33m,\u001b[0m \u001b[0mhandle\u001b[0m\u001b[1;33m,\u001b[0m \u001b[0mfeeds\u001b[0m\u001b[1;33m,\u001b[0m \u001b[0mfetches\u001b[0m\u001b[1;33m)\u001b[0m\u001b[1;33m\u001b[0m\u001b[0m\n",
      "\u001b[1;32m~\\Miniconda3\\envs\\capsule-gans\\lib\\site-packages\\tensorflow\\python\\client\\session.py\u001b[0m in \u001b[0;36m_do_call\u001b[1;34m(self, fn, *args)\u001b[0m\n\u001b[0;32m   1334\u001b[0m         \u001b[1;32mexcept\u001b[0m \u001b[0mKeyError\u001b[0m\u001b[1;33m:\u001b[0m\u001b[1;33m\u001b[0m\u001b[0m\n\u001b[0;32m   1335\u001b[0m           \u001b[1;32mpass\u001b[0m\u001b[1;33m\u001b[0m\u001b[0m\n\u001b[1;32m-> 1336\u001b[1;33m       \u001b[1;32mraise\u001b[0m \u001b[0mtype\u001b[0m\u001b[1;33m(\u001b[0m\u001b[0me\u001b[0m\u001b[1;33m)\u001b[0m\u001b[1;33m(\u001b[0m\u001b[0mnode_def\u001b[0m\u001b[1;33m,\u001b[0m \u001b[0mop\u001b[0m\u001b[1;33m,\u001b[0m \u001b[0mmessage\u001b[0m\u001b[1;33m)\u001b[0m\u001b[1;33m\u001b[0m\u001b[0m\n\u001b[0m\u001b[0;32m   1337\u001b[0m \u001b[1;33m\u001b[0m\u001b[0m\n\u001b[0;32m   1338\u001b[0m   \u001b[1;32mdef\u001b[0m \u001b[0m_extend_graph\u001b[0m\u001b[1;33m(\u001b[0m\u001b[0mself\u001b[0m\u001b[1;33m)\u001b[0m\u001b[1;33m:\u001b[0m\u001b[1;33m\u001b[0m\u001b[0m\n",
      "\u001b[1;31mResourceExhaustedError\u001b[0m: OOM when allocating tensor with shape[9,9,256,256]\n\t [[Node: PrimaryCaps_layer/Conv/weights/Initializer/random_uniform/RandomUniform = RandomUniform[T=DT_INT32, _class=[\"loc:@PrimaryCaps_layer/Conv/weights\"], dtype=DT_FLOAT, seed=0, seed2=0, _device=\"/job:localhost/replica:0/task:0/device:GPU:0\"](PrimaryCaps_layer/Conv/weights/Initializer/random_uniform/shape)]]\n\nCaused by op 'PrimaryCaps_layer/Conv/weights/Initializer/random_uniform/RandomUniform', defined at:\n  File \"C:\\Users\\husey_000\\Miniconda3\\envs\\capsule-gans\\lib\\runpy.py\", line 170, in _run_module_as_main\n    \"__main__\", mod_spec)\n  File \"C:\\Users\\husey_000\\Miniconda3\\envs\\capsule-gans\\lib\\runpy.py\", line 85, in _run_code\n    exec(code, run_globals)\n  File \"C:\\Users\\husey_000\\Miniconda3\\envs\\capsule-gans\\lib\\site-packages\\ipykernel_launcher.py\", line 16, in <module>\n    app.launch_new_instance()\n  File \"C:\\Users\\husey_000\\Miniconda3\\envs\\capsule-gans\\lib\\site-packages\\traitlets\\config\\application.py\", line 658, in launch_instance\n    app.start()\n  File \"C:\\Users\\husey_000\\Miniconda3\\envs\\capsule-gans\\lib\\site-packages\\ipykernel\\kernelapp.py\", line 478, in start\n    self.io_loop.start()\n  File \"C:\\Users\\husey_000\\Miniconda3\\envs\\capsule-gans\\lib\\site-packages\\zmq\\eventloop\\ioloop.py\", line 177, in start\n    super(ZMQIOLoop, self).start()\n  File \"C:\\Users\\husey_000\\Miniconda3\\envs\\capsule-gans\\lib\\site-packages\\tornado\\ioloop.py\", line 888, in start\n    handler_func(fd_obj, events)\n  File \"C:\\Users\\husey_000\\Miniconda3\\envs\\capsule-gans\\lib\\site-packages\\tornado\\stack_context.py\", line 277, in null_wrapper\n    return fn(*args, **kwargs)\n  File \"C:\\Users\\husey_000\\Miniconda3\\envs\\capsule-gans\\lib\\site-packages\\zmq\\eventloop\\zmqstream.py\", line 440, in _handle_events\n    self._handle_recv()\n  File \"C:\\Users\\husey_000\\Miniconda3\\envs\\capsule-gans\\lib\\site-packages\\zmq\\eventloop\\zmqstream.py\", line 472, in _handle_recv\n    self._run_callback(callback, msg)\n  File \"C:\\Users\\husey_000\\Miniconda3\\envs\\capsule-gans\\lib\\site-packages\\zmq\\eventloop\\zmqstream.py\", line 414, in _run_callback\n    callback(*args, **kwargs)\n  File \"C:\\Users\\husey_000\\Miniconda3\\envs\\capsule-gans\\lib\\site-packages\\tornado\\stack_context.py\", line 277, in null_wrapper\n    return fn(*args, **kwargs)\n  File \"C:\\Users\\husey_000\\Miniconda3\\envs\\capsule-gans\\lib\\site-packages\\ipykernel\\kernelbase.py\", line 281, in dispatcher\n    return self.dispatch_shell(stream, msg)\n  File \"C:\\Users\\husey_000\\Miniconda3\\envs\\capsule-gans\\lib\\site-packages\\ipykernel\\kernelbase.py\", line 232, in dispatch_shell\n    handler(stream, idents, msg)\n  File \"C:\\Users\\husey_000\\Miniconda3\\envs\\capsule-gans\\lib\\site-packages\\ipykernel\\kernelbase.py\", line 397, in execute_request\n    user_expressions, allow_stdin)\n  File \"C:\\Users\\husey_000\\Miniconda3\\envs\\capsule-gans\\lib\\site-packages\\ipykernel\\ipkernel.py\", line 208, in do_execute\n    res = shell.run_cell(code, store_history=store_history, silent=silent)\n  File \"C:\\Users\\husey_000\\Miniconda3\\envs\\capsule-gans\\lib\\site-packages\\ipykernel\\zmqshell.py\", line 533, in run_cell\n    return super(ZMQInteractiveShell, self).run_cell(*args, **kwargs)\n  File \"C:\\Users\\husey_000\\Miniconda3\\envs\\capsule-gans\\lib\\site-packages\\IPython\\core\\interactiveshell.py\", line 2728, in run_cell\n    interactivity=interactivity, compiler=compiler, result=result)\n  File \"C:\\Users\\husey_000\\Miniconda3\\envs\\capsule-gans\\lib\\site-packages\\IPython\\core\\interactiveshell.py\", line 2850, in run_ast_nodes\n    if self.run_code(code, result):\n  File \"C:\\Users\\husey_000\\Miniconda3\\envs\\capsule-gans\\lib\\site-packages\\IPython\\core\\interactiveshell.py\", line 2910, in run_code\n    exec(code_obj, self.user_global_ns, self.user_ns)\n  File \"<ipython-input-12-b11844a30a59>\", line 2, in <module>\n    Dx = discriminator(x_placeholder)\n  File \"<ipython-input-6-37b925c22443>\", line 33, in discriminator\n    caps1 = primaryCaps(d1, num_outputs=256, kernel_size=9, stride=2)\n  File \"<ipython-input-3-2346dd0eada9>\", line 24, in __call__\n    activation_fn=tf.nn.relu)\n  File \"C:\\Users\\husey_000\\Miniconda3\\envs\\capsule-gans\\lib\\site-packages\\tensorflow\\contrib\\framework\\python\\ops\\arg_scope.py\", line 181, in func_with_args\n    return func(*args, **current_args)\n  File \"C:\\Users\\husey_000\\Miniconda3\\envs\\capsule-gans\\lib\\site-packages\\tensorflow\\contrib\\layers\\python\\layers\\layers.py\", line 1033, in convolution\n    outputs = layer.apply(inputs)\n  File \"C:\\Users\\husey_000\\Miniconda3\\envs\\capsule-gans\\lib\\site-packages\\tensorflow\\python\\layers\\base.py\", line 671, in apply\n    return self.__call__(inputs, *args, **kwargs)\n  File \"C:\\Users\\husey_000\\Miniconda3\\envs\\capsule-gans\\lib\\site-packages\\tensorflow\\python\\layers\\base.py\", line 559, in __call__\n    self.build(input_shapes[0])\n  File \"C:\\Users\\husey_000\\Miniconda3\\envs\\capsule-gans\\lib\\site-packages\\tensorflow\\python\\layers\\convolutional.py\", line 143, in build\n    dtype=self.dtype)\n  File \"C:\\Users\\husey_000\\Miniconda3\\envs\\capsule-gans\\lib\\site-packages\\tensorflow\\python\\layers\\base.py\", line 458, in add_variable\n    trainable=trainable and self.trainable)\n  File \"C:\\Users\\husey_000\\Miniconda3\\envs\\capsule-gans\\lib\\site-packages\\tensorflow\\python\\ops\\variable_scope.py\", line 1203, in get_variable\n    constraint=constraint)\n  File \"C:\\Users\\husey_000\\Miniconda3\\envs\\capsule-gans\\lib\\site-packages\\tensorflow\\python\\ops\\variable_scope.py\", line 1092, in get_variable\n    constraint=constraint)\n  File \"C:\\Users\\husey_000\\Miniconda3\\envs\\capsule-gans\\lib\\site-packages\\tensorflow\\python\\ops\\variable_scope.py\", line 417, in get_variable\n    return custom_getter(**custom_getter_kwargs)\n  File \"C:\\Users\\husey_000\\Miniconda3\\envs\\capsule-gans\\lib\\site-packages\\tensorflow\\contrib\\layers\\python\\layers\\layers.py\", line 1539, in layer_variable_getter\n    return _model_variable_getter(getter, *args, **kwargs)\n  File \"C:\\Users\\husey_000\\Miniconda3\\envs\\capsule-gans\\lib\\site-packages\\tensorflow\\contrib\\layers\\python\\layers\\layers.py\", line 1531, in _model_variable_getter\n    custom_getter=getter, use_resource=use_resource)\n  File \"C:\\Users\\husey_000\\Miniconda3\\envs\\capsule-gans\\lib\\site-packages\\tensorflow\\contrib\\framework\\python\\ops\\arg_scope.py\", line 181, in func_with_args\n    return func(*args, **current_args)\n  File \"C:\\Users\\husey_000\\Miniconda3\\envs\\capsule-gans\\lib\\site-packages\\tensorflow\\contrib\\framework\\python\\ops\\variables.py\", line 262, in model_variable\n    use_resource=use_resource)\n  File \"C:\\Users\\husey_000\\Miniconda3\\envs\\capsule-gans\\lib\\site-packages\\tensorflow\\contrib\\framework\\python\\ops\\arg_scope.py\", line 181, in func_with_args\n    return func(*args, **current_args)\n  File \"C:\\Users\\husey_000\\Miniconda3\\envs\\capsule-gans\\lib\\site-packages\\tensorflow\\contrib\\framework\\python\\ops\\variables.py\", line 217, in variable\n    use_resource=use_resource)\n  File \"C:\\Users\\husey_000\\Miniconda3\\envs\\capsule-gans\\lib\\site-packages\\tensorflow\\python\\ops\\variable_scope.py\", line 394, in _true_getter\n    use_resource=use_resource, constraint=constraint)\n  File \"C:\\Users\\husey_000\\Miniconda3\\envs\\capsule-gans\\lib\\site-packages\\tensorflow\\python\\ops\\variable_scope.py\", line 805, in _get_single_variable\n    constraint=constraint)\n  File \"C:\\Users\\husey_000\\Miniconda3\\envs\\capsule-gans\\lib\\site-packages\\tensorflow\\python\\ops\\variables.py\", line 213, in __init__\n    constraint=constraint)\n  File \"C:\\Users\\husey_000\\Miniconda3\\envs\\capsule-gans\\lib\\site-packages\\tensorflow\\python\\ops\\variables.py\", line 303, in _init_from_args\n    initial_value(), name=\"initial_value\", dtype=dtype)\n  File \"C:\\Users\\husey_000\\Miniconda3\\envs\\capsule-gans\\lib\\site-packages\\tensorflow\\python\\ops\\variable_scope.py\", line 779, in <lambda>\n    shape.as_list(), dtype=dtype, partition_info=partition_info)\n  File \"C:\\Users\\husey_000\\Miniconda3\\envs\\capsule-gans\\lib\\site-packages\\tensorflow\\contrib\\layers\\python\\layers\\initializers.py\", line 144, in _initializer\n    dtype, seed=seed)\n  File \"C:\\Users\\husey_000\\Miniconda3\\envs\\capsule-gans\\lib\\site-packages\\tensorflow\\python\\ops\\random_ops.py\", line 240, in random_uniform\n    shape, dtype, seed=seed1, seed2=seed2)\n  File \"C:\\Users\\husey_000\\Miniconda3\\envs\\capsule-gans\\lib\\site-packages\\tensorflow\\python\\ops\\gen_random_ops.py\", line 472, in _random_uniform\n    name=name)\n  File \"C:\\Users\\husey_000\\Miniconda3\\envs\\capsule-gans\\lib\\site-packages\\tensorflow\\python\\framework\\op_def_library.py\", line 787, in _apply_op_helper\n    op_def=op_def)\n  File \"C:\\Users\\husey_000\\Miniconda3\\envs\\capsule-gans\\lib\\site-packages\\tensorflow\\python\\framework\\ops.py\", line 2956, in create_op\n    op_def=op_def)\n  File \"C:\\Users\\husey_000\\Miniconda3\\envs\\capsule-gans\\lib\\site-packages\\tensorflow\\python\\framework\\ops.py\", line 1470, in __init__\n    self._traceback = self._graph._extract_stack()  # pylint: disable=protected-access\n\nResourceExhaustedError (see above for traceback): OOM when allocating tensor with shape[9,9,256,256]\n\t [[Node: PrimaryCaps_layer/Conv/weights/Initializer/random_uniform/RandomUniform = RandomUniform[T=DT_INT32, _class=[\"loc:@PrimaryCaps_layer/Conv/weights\"], dtype=DT_FLOAT, seed=0, seed2=0, _device=\"/job:localhost/replica:0/task:0/device:GPU:0\"](PrimaryCaps_layer/Conv/weights/Initializer/random_uniform/shape)]]\n"
     ]
    }
   ],
   "source": [
    "#During every iteration, there will be two updates being made, one to the discriminator and one to the generator. \n",
    "#For the generator update, we’ll feed in a random z vector to the generator and pass that output to the discriminator\n",
    "#to obtain a probability score (this is the Dg variable we specified earlier).\n",
    "#As we remember from our loss function, the cross entropy loss gets minimized, \n",
    "#and only the generator’s weights and biases get updated.\n",
    "#We'll do the same for the discriminator update. We’ll be taking a batch of images \n",
    "#from the mnist variable we created way at the beginning of our program.\n",
    "#These will serve as the positive examples, while the images in the previous section are the negative ones.\n",
    "\n",
    "gLoss = 0\n",
    "dLossFake, dLossReal = 1, 1\n",
    "d_real_count, d_fake_count, g_count = 0, 0, 0\n",
    "for i in range(10000):\n",
    "    real_image_batch = mnist.train.next_batch(batch_size)[0].reshape([batch_size, 28, 28, 1])\n",
    "    if dLossFake > 0.6:\n",
    "        # Train discriminator on generated images\n",
    "        _, dLossReal, dLossFake, gLoss = sess.run([d_trainer_fake, d_loss_real, d_loss_fake, g_loss],\n",
    "                                                    {x_placeholder: real_image_batch})\n",
    "        d_fake_count += 1\n",
    "        \n",
    "\n",
    "    if gLoss > 0.5:\n",
    "        # Train the generator\n",
    "        _, dLossReal, dLossFake, gLoss = sess.run([g_trainer, d_loss_real, d_loss_fake, g_loss],\n",
    "                                                    {x_placeholder: real_image_batch})\n",
    "        g_count += 1\n",
    "        \n",
    "\n",
    "    if dLossReal > 0.45:\n",
    "        # If the discriminator classifies real images as fake,\n",
    "        # train discriminator on real values\n",
    "        _, dLossReal, dLossFake, gLoss = sess.run([d_trainer_real, d_loss_real, d_loss_fake, g_loss],\n",
    "                                                    {x_placeholder: real_image_batch})\n",
    "        d_real_count += 1\n",
    "        \n",
    "\n",
    "    if i % 10 == 0:\n",
    "        real_image_batch = mnist.validation.next_batch(batch_size)[0].reshape([batch_size, 28, 28, 1])\n",
    "        summary = sess.run(merged, {x_placeholder: real_image_batch, d_real_count_ph: d_real_count,\n",
    "                                    d_fake_count_ph: d_fake_count, g_count_ph: g_count})\n",
    "        writer.add_summary(summary, i)\n",
    "        d_real_count, d_fake_count, g_count = 0, 0, 0\n",
    "\n",
    "    if i % 10 == 0:\n",
    "        # Periodically display a sample image in the notebook\n",
    "        # (These are also being sent to TensorBoard every 10 iterations)\n",
    "        images = sess.run(generator(10, z_dimensions))\n",
    "        d_result = sess.run(discriminator(x_placeholder), {x_placeholder: images})\n",
    "        print(\"TRAINING STEP\", i, \"AT\", datetime.datetime.now())\n",
    "        for j in range(3):\n",
    "            print(\"Discriminator classification\", d_result[j])\n",
    "            im = images[j, :, :, 0]\n",
    "            plt.imshow(im.reshape([28, 28]), cmap='Greys')\n",
    "            plt.show()\n",
    "\n",
    "    if i % 500 == 0:\n",
    "        save_path = saver.save(sess, \"models/pretrained_gan.ckpt\", global_step=i)\n",
    "        print(\"saved to %s\" % save_path)\n",
    "        \n",
    "    \n",
    "test_images = sess.run(generator(10, 100))\n",
    "test_eval = sess.run(discriminator(x_placeholder), {x_placeholder: test_images})\n",
    "\n",
    "real_images = mnist.validation.next_batch(10)[0].reshape([10, 28, 28, 1])\n",
    "real_eval = sess.run(discriminator(x_placeholder), {x_placeholder: real_images})\n",
    "\n",
    "# Show discriminator's probabilities for the generated images,\n",
    "# and display the images\n",
    "for i in range(10):\n",
    "    print(test_eval[i])\n",
    "    plt.imshow(test_images[i, :, :, 0], cmap='Greys')\n",
    "    plt.show()\n",
    "\n",
    "# Now do the same for real MNIST images\n",
    "for i in range(10):\n",
    "    print(real_eval[i])\n",
    "    plt.imshow(real_images[i, :, :, 0], cmap='Greys')\n",
    "    plt.show()"
   ]
  },
  {
   "cell_type": "code",
   "execution_count": null,
   "metadata": {},
   "outputs": [],
   "source": []
  }
 ],
 "metadata": {
  "kernelspec": {
   "display_name": "Python 3",
   "language": "python",
   "name": "python3"
  },
  "language_info": {
   "codemirror_mode": {
    "name": "ipython",
    "version": 3
   },
   "file_extension": ".py",
   "mimetype": "text/x-python",
   "name": "python",
   "nbconvert_exporter": "python",
   "pygments_lexer": "ipython3",
   "version": "3.5.0"
  },
  "widgets": {
   "state": {},
   "version": "1.1.2"
  }
 },
 "nbformat": 4,
 "nbformat_minor": 2
}
